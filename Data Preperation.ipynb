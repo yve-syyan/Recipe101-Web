{
  "nbformat": 4,
  "nbformat_minor": 0,
  "metadata": {
    "colab": {
      "name": "Recipe EDA.ipynb",
      "provenance": [],
      "collapsed_sections": [],
      "toc_visible": true
    },
    "kernelspec": {
      "name": "python3",
      "display_name": "Python 3"
    },
    "accelerator": "GPU"
  },
  "cells": [
    {
      "cell_type": "code",
      "metadata": {
        "id": "O1EoOsbBD_MU",
        "outputId": "4141f1ed-57ea-44d9-999b-d9b51eebf78f",
        "colab": {
          "base_uri": "https://localhost:8080/"
        }
      },
      "source": [
        "!pip install pandasql\n",
        "!pip install kaggle"
      ],
      "execution_count": 1,
      "outputs": [
        {
          "output_type": "stream",
          "text": [
            "Collecting pandasql\n",
            "  Downloading https://files.pythonhosted.org/packages/6b/c4/ee4096ffa2eeeca0c749b26f0371bd26aa5c8b611c43de99a4f86d3de0a7/pandasql-0.7.3.tar.gz\n",
            "Requirement already satisfied: numpy in /usr/local/lib/python3.6/dist-packages (from pandasql) (1.18.5)\n",
            "Requirement already satisfied: pandas in /usr/local/lib/python3.6/dist-packages (from pandasql) (1.1.4)\n",
            "Requirement already satisfied: sqlalchemy in /usr/local/lib/python3.6/dist-packages (from pandasql) (1.3.20)\n",
            "Requirement already satisfied: pytz>=2017.2 in /usr/local/lib/python3.6/dist-packages (from pandas->pandasql) (2018.9)\n",
            "Requirement already satisfied: python-dateutil>=2.7.3 in /usr/local/lib/python3.6/dist-packages (from pandas->pandasql) (2.8.1)\n",
            "Requirement already satisfied: six>=1.5 in /usr/local/lib/python3.6/dist-packages (from python-dateutil>=2.7.3->pandas->pandasql) (1.15.0)\n",
            "Building wheels for collected packages: pandasql\n",
            "  Building wheel for pandasql (setup.py) ... \u001b[?25l\u001b[?25hdone\n",
            "  Created wheel for pandasql: filename=pandasql-0.7.3-cp36-none-any.whl size=26819 sha256=9859c0b6cd3c25252851908fe7b169ffe091049f9467a9c8ecff0bb37ea44673\n",
            "  Stored in directory: /root/.cache/pip/wheels/53/6c/18/b87a2e5fa8a82e9c026311de56210b8d1c01846e18a9607fc9\n",
            "Successfully built pandasql\n",
            "Installing collected packages: pandasql\n",
            "Successfully installed pandasql-0.7.3\n",
            "Requirement already satisfied: kaggle in /usr/local/lib/python3.6/dist-packages (1.5.9)\n",
            "Requirement already satisfied: certifi in /usr/local/lib/python3.6/dist-packages (from kaggle) (2020.6.20)\n",
            "Requirement already satisfied: tqdm in /usr/local/lib/python3.6/dist-packages (from kaggle) (4.41.1)\n",
            "Requirement already satisfied: requests in /usr/local/lib/python3.6/dist-packages (from kaggle) (2.23.0)\n",
            "Requirement already satisfied: urllib3 in /usr/local/lib/python3.6/dist-packages (from kaggle) (1.24.3)\n",
            "Requirement already satisfied: six>=1.10 in /usr/local/lib/python3.6/dist-packages (from kaggle) (1.15.0)\n",
            "Requirement already satisfied: python-slugify in /usr/local/lib/python3.6/dist-packages (from kaggle) (4.0.1)\n",
            "Requirement already satisfied: python-dateutil in /usr/local/lib/python3.6/dist-packages (from kaggle) (2.8.1)\n",
            "Requirement already satisfied: slugify in /usr/local/lib/python3.6/dist-packages (from kaggle) (0.0.1)\n",
            "Requirement already satisfied: chardet<4,>=3.0.2 in /usr/local/lib/python3.6/dist-packages (from requests->kaggle) (3.0.4)\n",
            "Requirement already satisfied: idna<3,>=2.5 in /usr/local/lib/python3.6/dist-packages (from requests->kaggle) (2.10)\n",
            "Requirement already satisfied: text-unidecode>=1.3 in /usr/local/lib/python3.6/dist-packages (from python-slugify->kaggle) (1.3)\n"
          ],
          "name": "stdout"
        }
      ]
    },
    {
      "cell_type": "code",
      "metadata": {
        "id": "iQqMHHAoDfDd"
      },
      "source": [
        "import pandas as pd\n",
        "import numpy as np\n",
        "import pandasql\n",
        "import re\n",
        "import nltk"
      ],
      "execution_count": 2,
      "outputs": []
    },
    {
      "cell_type": "code",
      "metadata": {
        "id": "hS-ursYpqHOe",
        "outputId": "78a83f8b-b2a1-45ea-a133-3c25e035a00f",
        "colab": {
          "base_uri": "https://localhost:8080/"
        }
      },
      "source": [
        "nltk.download('universal_tagset')\n",
        "nltk.download('punkt')\n",
        "nltk.download('averaged_perceptron_tagger')"
      ],
      "execution_count": 3,
      "outputs": [
        {
          "output_type": "stream",
          "text": [
            "[nltk_data] Downloading package universal_tagset to /root/nltk_data...\n",
            "[nltk_data]   Unzipping taggers/universal_tagset.zip.\n",
            "[nltk_data] Downloading package punkt to /root/nltk_data...\n",
            "[nltk_data]   Unzipping tokenizers/punkt.zip.\n",
            "[nltk_data] Downloading package averaged_perceptron_tagger to\n",
            "[nltk_data]     /root/nltk_data...\n",
            "[nltk_data]   Unzipping taggers/averaged_perceptron_tagger.zip.\n"
          ],
          "name": "stdout"
        },
        {
          "output_type": "execute_result",
          "data": {
            "text/plain": [
              "True"
            ]
          },
          "metadata": {
            "tags": []
          },
          "execution_count": 3
        }
      ]
    },
    {
      "cell_type": "markdown",
      "metadata": {
        "id": "Mekdo0q3D8yx"
      },
      "source": [
        "# Load raw dataset\n",
        "\n",
        "Pulled and unzipped data from [kaggle](https://www.kaggle.com/kanaryayi/recipe-ingredients-and-reviews?select=reviews.csv) using Kaggle API. "
      ]
    },
    {
      "cell_type": "code",
      "metadata": {
        "id": "UH4tdTlOGPPV"
      },
      "source": [
        "!mkdir /root/.kaggle/\n",
        "!touch /root/.kaggle/\n",
        "!touch ~/.kaggle/kaggle.json\n",
        "\n",
        "api_token = {\"username\":\"songyuyve\",\"key\":\"aadc7d6cea1b4b9310d2b3f1534827ce\"}\n",
        "\n",
        "import json\n",
        "\n",
        "with open('/root/.kaggle/kaggle.json', 'w') as file:\n",
        "    json.dump(api_token, file)\n",
        "\n",
        "!chmod 600 ~/.kaggle/kaggle.json"
      ],
      "execution_count": 5,
      "outputs": []
    },
    {
      "cell_type": "code",
      "metadata": {
        "id": "Zyp56GX5D7qb",
        "outputId": "f10a85b6-e296-4b6c-e217-6adc98080d1f",
        "colab": {
          "base_uri": "https://localhost:8080/"
        }
      },
      "source": [
        "!kaggle datasets download -d kanaryayi/recipe-ingredients-and-reviews -f recipes.csv\n",
        "!kaggle datasets download -d kanaryayi/recipe-ingredients-and-reviews -f reviews.csv"
      ],
      "execution_count": 6,
      "outputs": [
        {
          "output_type": "stream",
          "text": [
            "Downloading recipes.csv.zip to /content\n",
            "\r  0% 0.00/3.74M [00:00<?, ?B/s]\n",
            "100% 3.74M/3.74M [00:00<00:00, 61.9MB/s]\n",
            "Downloading reviews.csv.zip to /content\n",
            " 90% 81.0M/89.9M [00:01<00:00, 40.2MB/s]\n",
            "100% 89.9M/89.9M [00:01<00:00, 47.9MB/s]\n"
          ],
          "name": "stdout"
        }
      ]
    },
    {
      "cell_type": "code",
      "metadata": {
        "id": "ibuLEbbzEV7h",
        "outputId": "bbfa73a0-1fde-4a00-b682-b746bbfb370a",
        "colab": {
          "base_uri": "https://localhost:8080/"
        }
      },
      "source": [
        "!unzip recipes.csv.zip recipes.csv\n",
        "!unzip reviews.csv.zip reviews.csv"
      ],
      "execution_count": 7,
      "outputs": [
        {
          "output_type": "stream",
          "text": [
            "Archive:  recipes.csv.zip\n",
            "  inflating: recipes.csv             \n",
            "Archive:  reviews.csv.zip\n",
            "  inflating: reviews.csv             \n"
          ],
          "name": "stdout"
        }
      ]
    },
    {
      "cell_type": "markdown",
      "metadata": {
        "id": "4I5FpR7UHZ6c"
      },
      "source": [
        "# Import raw data"
      ]
    },
    {
      "cell_type": "code",
      "metadata": {
        "id": "OHSU1KeIHDJC",
        "outputId": "834ab319-cfb7-427c-c7a1-f56b8940a19b",
        "colab": {
          "base_uri": "https://localhost:8080/"
        }
      },
      "source": [
        "recipes_df = pd.read_csv('recipes.csv', sep=';',  encoding= 'unicode_escape' , quotechar=\"'\")\n",
        "reviews_df = pd.read_csv('reviews.csv', delimiter=';', encoding='unicode_escape' , quotechar=\"'\")"
      ],
      "execution_count": 8,
      "outputs": [
        {
          "output_type": "stream",
          "text": [
            "/usr/local/lib/python3.6/dist-packages/IPython/core/interactiveshell.py:2718: DtypeWarning: Columns (0,1,2) have mixed types.Specify dtype option on import or set low_memory=False.\n",
            "  interactivity=interactivity, compiler=compiler, result=result)\n"
          ],
          "name": "stderr"
        }
      ]
    },
    {
      "cell_type": "code",
      "metadata": {
        "id": "GOJM-NYBIsb3",
        "outputId": "615e403f-c0fc-4dc2-e685-593d6c1bfe64",
        "colab": {
          "base_uri": "https://localhost:8080/",
          "height": 621
        }
      },
      "source": [
        "recipes_df.head(5)"
      ],
      "execution_count": 9,
      "outputs": [
        {
          "output_type": "execute_result",
          "data": {
            "text/html": [
              "<div>\n",
              "<style scoped>\n",
              "    .dataframe tbody tr th:only-of-type {\n",
              "        vertical-align: middle;\n",
              "    }\n",
              "\n",
              "    .dataframe tbody tr th {\n",
              "        vertical-align: top;\n",
              "    }\n",
              "\n",
              "    .dataframe thead th {\n",
              "        text-align: right;\n",
              "    }\n",
              "</style>\n",
              "<table border=\"1\" class=\"dataframe\">\n",
              "  <thead>\n",
              "    <tr style=\"text-align: right;\">\n",
              "      <th></th>\n",
              "      <th>Recipe Name</th>\n",
              "      <th>RecipeID</th>\n",
              "      <th>Review Count</th>\n",
              "      <th>Recipe Photo</th>\n",
              "      <th>Author</th>\n",
              "      <th>Prepare Time</th>\n",
              "      <th>Cook Time</th>\n",
              "      <th>Total Time</th>\n",
              "      <th>Ingredients</th>\n",
              "      <th>Directions</th>\n",
              "    </tr>\n",
              "  </thead>\n",
              "  <tbody>\n",
              "    <tr>\n",
              "      <th>0</th>\n",
              "      <td>Golden Crescent Rolls Recipe</td>\n",
              "      <td>7000</td>\n",
              "      <td>304</td>\n",
              "      <td>https://images.media-allrecipes.com/userphotos...</td>\n",
              "      <td>Mike A.</td>\n",
              "      <td>25 m</td>\n",
              "      <td>15 m</td>\n",
              "      <td>3 h 10 m</td>\n",
              "      <td>2 (.25 ounce) packages active dry yeast**3/4 c...</td>\n",
              "      <td>Dissolve yeast in warm water.**Stir in sugar, ...</td>\n",
              "    </tr>\n",
              "    <tr>\n",
              "      <th>1</th>\n",
              "      <td>Poppy Seed Bread with Glaze Recipe</td>\n",
              "      <td>7001</td>\n",
              "      <td>137</td>\n",
              "      <td>https://images.media-allrecipes.com/userphotos...</td>\n",
              "      <td>Christina Jun</td>\n",
              "      <td>15 m</td>\n",
              "      <td>1 h</td>\n",
              "      <td>1 h 20 m</td>\n",
              "      <td>3 cups all-purpose flour**1 1/2 teaspoons salt...</td>\n",
              "      <td>Preheat oven to 350 degrees F (175 degrees C)....</td>\n",
              "    </tr>\n",
              "    <tr>\n",
              "      <th>2</th>\n",
              "      <td>Czech Christmas Hoska Recipe</td>\n",
              "      <td>7002</td>\n",
              "      <td>11</td>\n",
              "      <td>https://images.media-allrecipes.com/userphotos...</td>\n",
              "      <td>Carol Ponec-Nemec</td>\n",
              "      <td>1 h</td>\n",
              "      <td>45 m</td>\n",
              "      <td>5 h 30 m</td>\n",
              "      <td>1 (0.6 ounce) cake compressed fresh yeast**1/4...</td>\n",
              "      <td>Dissolve yeast in warm water.**In a large bowl...</td>\n",
              "    </tr>\n",
              "    <tr>\n",
              "      <th>3</th>\n",
              "      <td>Applesauce Bread I Recipe</td>\n",
              "      <td>7003</td>\n",
              "      <td>124</td>\n",
              "      <td>https://images.media-allrecipes.com/userphotos...</td>\n",
              "      <td>GAF55</td>\n",
              "      <td>10 m</td>\n",
              "      <td>1 h 20 m</td>\n",
              "      <td>1 h 30 m</td>\n",
              "      <td>3 cups all-purpose flour**3 eggs**2 cups white...</td>\n",
              "      <td>Preheat oven to 350 degrees F (175 degrees C)....</td>\n",
              "    </tr>\n",
              "    <tr>\n",
              "      <th>4</th>\n",
              "      <td>Raisin Brown Bread Recipe</td>\n",
              "      <td>7004</td>\n",
              "      <td>5</td>\n",
              "      <td>https://images.media-allrecipes.com/userphotos...</td>\n",
              "      <td>Tina</td>\n",
              "      <td>30 m</td>\n",
              "      <td>40 m</td>\n",
              "      <td>3 h 10 m</td>\n",
              "      <td>2 cups boiling water**1 cup rolled oats**2 tab...</td>\n",
              "      <td>Combine boiling water, oats, shortening, brown...</td>\n",
              "    </tr>\n",
              "  </tbody>\n",
              "</table>\n",
              "</div>"
            ],
            "text/plain": [
              "                           Recipe Name  ...                                         Directions\n",
              "0        Golden Crescent Rolls Recipe   ...  Dissolve yeast in warm water.**Stir in sugar, ...\n",
              "1  Poppy Seed Bread with Glaze Recipe   ...  Preheat oven to 350 degrees F (175 degrees C)....\n",
              "2        Czech Christmas Hoska Recipe   ...  Dissolve yeast in warm water.**In a large bowl...\n",
              "3           Applesauce Bread I Recipe   ...  Preheat oven to 350 degrees F (175 degrees C)....\n",
              "4           Raisin Brown Bread Recipe   ...  Combine boiling water, oats, shortening, brown...\n",
              "\n",
              "[5 rows x 10 columns]"
            ]
          },
          "metadata": {
            "tags": []
          },
          "execution_count": 9
        }
      ]
    },
    {
      "cell_type": "code",
      "metadata": {
        "id": "krEj7LYpLo6d",
        "outputId": "28c1dc7a-2547-4149-fc9d-c3a72074b9e9",
        "colab": {
          "base_uri": "https://localhost:8080/",
          "height": 202
        }
      },
      "source": [
        "reviews_df.head(5)"
      ],
      "execution_count": 10,
      "outputs": [
        {
          "output_type": "execute_result",
          "data": {
            "text/html": [
              "<div>\n",
              "<style scoped>\n",
              "    .dataframe tbody tr th:only-of-type {\n",
              "        vertical-align: middle;\n",
              "    }\n",
              "\n",
              "    .dataframe tbody tr th {\n",
              "        vertical-align: top;\n",
              "    }\n",
              "\n",
              "    .dataframe thead th {\n",
              "        text-align: right;\n",
              "    }\n",
              "</style>\n",
              "<table border=\"1\" class=\"dataframe\">\n",
              "  <thead>\n",
              "    <tr style=\"text-align: right;\">\n",
              "      <th></th>\n",
              "      <th>RecipeID</th>\n",
              "      <th>profileID</th>\n",
              "      <th>Rate</th>\n",
              "      <th>Comment</th>\n",
              "    </tr>\n",
              "  </thead>\n",
              "  <tbody>\n",
              "    <tr>\n",
              "      <th>0</th>\n",
              "      <td>7000</td>\n",
              "      <td>675719</td>\n",
              "      <td>5</td>\n",
              "      <td>Oh Yay!  I've never made any kind of bread fro...</td>\n",
              "    </tr>\n",
              "    <tr>\n",
              "      <th>1</th>\n",
              "      <td>7000</td>\n",
              "      <td>1478626</td>\n",
              "      <td>5</td>\n",
              "      <td>These rolls are wonderful. I had to bake them ...</td>\n",
              "    </tr>\n",
              "    <tr>\n",
              "      <th>2</th>\n",
              "      <td>7000</td>\n",
              "      <td>608663</td>\n",
              "      <td>5</td>\n",
              "      <td>This recipe was made for a group of 120 in a c...</td>\n",
              "    </tr>\n",
              "    <tr>\n",
              "      <th>3</th>\n",
              "      <td>7000</td>\n",
              "      <td>2785736</td>\n",
              "      <td>5</td>\n",
              "      <td>WOO HOO.. I did it with the help from my fello...</td>\n",
              "    </tr>\n",
              "    <tr>\n",
              "      <th>4</th>\n",
              "      <td>7000</td>\n",
              "      <td>594474</td>\n",
              "      <td>5</td>\n",
              "      <td>These are great!! Not a croissant, but much li...</td>\n",
              "    </tr>\n",
              "  </tbody>\n",
              "</table>\n",
              "</div>"
            ],
            "text/plain": [
              "  RecipeID profileID Rate                                            Comment\n",
              "0     7000    675719    5  Oh Yay!  I've never made any kind of bread fro...\n",
              "1     7000   1478626    5  These rolls are wonderful. I had to bake them ...\n",
              "2     7000    608663    5  This recipe was made for a group of 120 in a c...\n",
              "3     7000   2785736    5  WOO HOO.. I did it with the help from my fello...\n",
              "4     7000    594474    5  These are great!! Not a croissant, but much li..."
            ]
          },
          "metadata": {
            "tags": []
          },
          "execution_count": 10
        }
      ]
    },
    {
      "cell_type": "markdown",
      "metadata": {
        "id": "R8eapC_WNCNx"
      },
      "source": [
        "# Prepare recipe data"
      ]
    },
    {
      "cell_type": "markdown",
      "metadata": {
        "id": "uPc8y5SlNOm7"
      },
      "source": [
        "Hours to minutes"
      ]
    },
    {
      "cell_type": "code",
      "metadata": {
        "id": "lGvGqrrPNfXc"
      },
      "source": [
        "def time_to_min(row):\n",
        "  ''' Unify time columns to minutes\n",
        "  '''\n",
        "  # check contains number\n",
        "  if not any(char.isdigit() for char in row):\n",
        "    return None\n",
        "  \n",
        "  day, hour, minut = 0, 0, 0\n",
        "  hour_ind, day_ind = 0, 0\n",
        "  if 'd' in row:\n",
        "    day = float(row[:row.find('d')].strip(' '))\n",
        "    row = row[row.find('d')+1:]\n",
        "  if 'h' in row:\n",
        "    hour = float(row[:row.find('h')].strip(' '))\n",
        "    row = row[row.find('h')+1:]\n",
        "  if 'm' in row:\n",
        "    minut = float(row[:row.find('m')].strip(' '))\n",
        "  return hour*60+minut+day*1440"
      ],
      "execution_count": 11,
      "outputs": []
    },
    {
      "cell_type": "code",
      "metadata": {
        "id": "jJZnTM4fM9nH",
        "outputId": "1dfa39d3-91e1-4a08-ba91-65431293aa8b",
        "colab": {
          "base_uri": "https://localhost:8080/",
          "height": 621
        }
      },
      "source": [
        "recipes_df['Prepare_Time'] = recipes_df['Prepare Time'].apply(time_to_min)\n",
        "recipes_df['Cook_Time'] = recipes_df['Cook Time'].apply(time_to_min)\n",
        "recipes_df['Total_Time'] = recipes_df['Total Time'].apply(time_to_min)\n",
        "\n",
        "recipes_df.drop(['Total Time', 'Cook Time', 'Prepare Time'], axis=1, inplace=True)\n",
        "recipes_df.head(5)"
      ],
      "execution_count": 12,
      "outputs": [
        {
          "output_type": "execute_result",
          "data": {
            "text/html": [
              "<div>\n",
              "<style scoped>\n",
              "    .dataframe tbody tr th:only-of-type {\n",
              "        vertical-align: middle;\n",
              "    }\n",
              "\n",
              "    .dataframe tbody tr th {\n",
              "        vertical-align: top;\n",
              "    }\n",
              "\n",
              "    .dataframe thead th {\n",
              "        text-align: right;\n",
              "    }\n",
              "</style>\n",
              "<table border=\"1\" class=\"dataframe\">\n",
              "  <thead>\n",
              "    <tr style=\"text-align: right;\">\n",
              "      <th></th>\n",
              "      <th>Recipe Name</th>\n",
              "      <th>RecipeID</th>\n",
              "      <th>Review Count</th>\n",
              "      <th>Recipe Photo</th>\n",
              "      <th>Author</th>\n",
              "      <th>Ingredients</th>\n",
              "      <th>Directions</th>\n",
              "      <th>Prepare_Time</th>\n",
              "      <th>Cook_Time</th>\n",
              "      <th>Total_Time</th>\n",
              "    </tr>\n",
              "  </thead>\n",
              "  <tbody>\n",
              "    <tr>\n",
              "      <th>0</th>\n",
              "      <td>Golden Crescent Rolls Recipe</td>\n",
              "      <td>7000</td>\n",
              "      <td>304</td>\n",
              "      <td>https://images.media-allrecipes.com/userphotos...</td>\n",
              "      <td>Mike A.</td>\n",
              "      <td>2 (.25 ounce) packages active dry yeast**3/4 c...</td>\n",
              "      <td>Dissolve yeast in warm water.**Stir in sugar, ...</td>\n",
              "      <td>25.0</td>\n",
              "      <td>15.0</td>\n",
              "      <td>190.0</td>\n",
              "    </tr>\n",
              "    <tr>\n",
              "      <th>1</th>\n",
              "      <td>Poppy Seed Bread with Glaze Recipe</td>\n",
              "      <td>7001</td>\n",
              "      <td>137</td>\n",
              "      <td>https://images.media-allrecipes.com/userphotos...</td>\n",
              "      <td>Christina Jun</td>\n",
              "      <td>3 cups all-purpose flour**1 1/2 teaspoons salt...</td>\n",
              "      <td>Preheat oven to 350 degrees F (175 degrees C)....</td>\n",
              "      <td>15.0</td>\n",
              "      <td>60.0</td>\n",
              "      <td>80.0</td>\n",
              "    </tr>\n",
              "    <tr>\n",
              "      <th>2</th>\n",
              "      <td>Czech Christmas Hoska Recipe</td>\n",
              "      <td>7002</td>\n",
              "      <td>11</td>\n",
              "      <td>https://images.media-allrecipes.com/userphotos...</td>\n",
              "      <td>Carol Ponec-Nemec</td>\n",
              "      <td>1 (0.6 ounce) cake compressed fresh yeast**1/4...</td>\n",
              "      <td>Dissolve yeast in warm water.**In a large bowl...</td>\n",
              "      <td>60.0</td>\n",
              "      <td>45.0</td>\n",
              "      <td>330.0</td>\n",
              "    </tr>\n",
              "    <tr>\n",
              "      <th>3</th>\n",
              "      <td>Applesauce Bread I Recipe</td>\n",
              "      <td>7003</td>\n",
              "      <td>124</td>\n",
              "      <td>https://images.media-allrecipes.com/userphotos...</td>\n",
              "      <td>GAF55</td>\n",
              "      <td>3 cups all-purpose flour**3 eggs**2 cups white...</td>\n",
              "      <td>Preheat oven to 350 degrees F (175 degrees C)....</td>\n",
              "      <td>10.0</td>\n",
              "      <td>80.0</td>\n",
              "      <td>90.0</td>\n",
              "    </tr>\n",
              "    <tr>\n",
              "      <th>4</th>\n",
              "      <td>Raisin Brown Bread Recipe</td>\n",
              "      <td>7004</td>\n",
              "      <td>5</td>\n",
              "      <td>https://images.media-allrecipes.com/userphotos...</td>\n",
              "      <td>Tina</td>\n",
              "      <td>2 cups boiling water**1 cup rolled oats**2 tab...</td>\n",
              "      <td>Combine boiling water, oats, shortening, brown...</td>\n",
              "      <td>30.0</td>\n",
              "      <td>40.0</td>\n",
              "      <td>190.0</td>\n",
              "    </tr>\n",
              "  </tbody>\n",
              "</table>\n",
              "</div>"
            ],
            "text/plain": [
              "                           Recipe Name RecipeID  ... Cook_Time Total_Time\n",
              "0        Golden Crescent Rolls Recipe      7000  ...      15.0      190.0\n",
              "1  Poppy Seed Bread with Glaze Recipe      7001  ...      60.0       80.0\n",
              "2        Czech Christmas Hoska Recipe      7002  ...      45.0      330.0\n",
              "3           Applesauce Bread I Recipe      7003  ...      80.0       90.0\n",
              "4           Raisin Brown Bread Recipe      7004  ...      40.0      190.0\n",
              "\n",
              "[5 rows x 10 columns]"
            ]
          },
          "metadata": {
            "tags": []
          },
          "execution_count": 12
        }
      ]
    },
    {
      "cell_type": "code",
      "metadata": {
        "id": "kPvFY_T6OJwH",
        "outputId": "49ec6953-07b2-4ec1-ab15-266e91be0740",
        "colab": {
          "base_uri": "https://localhost:8080/",
          "height": 651
        }
      },
      "source": [
        "# Reset id to RecipeId\n",
        "recipes_df.set_index(keys=['RecipeID'],inplace=True)\n",
        "recipes_df.head(5)"
      ],
      "execution_count": 13,
      "outputs": [
        {
          "output_type": "execute_result",
          "data": {
            "text/html": [
              "<div>\n",
              "<style scoped>\n",
              "    .dataframe tbody tr th:only-of-type {\n",
              "        vertical-align: middle;\n",
              "    }\n",
              "\n",
              "    .dataframe tbody tr th {\n",
              "        vertical-align: top;\n",
              "    }\n",
              "\n",
              "    .dataframe thead th {\n",
              "        text-align: right;\n",
              "    }\n",
              "</style>\n",
              "<table border=\"1\" class=\"dataframe\">\n",
              "  <thead>\n",
              "    <tr style=\"text-align: right;\">\n",
              "      <th></th>\n",
              "      <th>Recipe Name</th>\n",
              "      <th>Review Count</th>\n",
              "      <th>Recipe Photo</th>\n",
              "      <th>Author</th>\n",
              "      <th>Ingredients</th>\n",
              "      <th>Directions</th>\n",
              "      <th>Prepare_Time</th>\n",
              "      <th>Cook_Time</th>\n",
              "      <th>Total_Time</th>\n",
              "    </tr>\n",
              "    <tr>\n",
              "      <th>RecipeID</th>\n",
              "      <th></th>\n",
              "      <th></th>\n",
              "      <th></th>\n",
              "      <th></th>\n",
              "      <th></th>\n",
              "      <th></th>\n",
              "      <th></th>\n",
              "      <th></th>\n",
              "      <th></th>\n",
              "    </tr>\n",
              "  </thead>\n",
              "  <tbody>\n",
              "    <tr>\n",
              "      <th>7000</th>\n",
              "      <td>Golden Crescent Rolls Recipe</td>\n",
              "      <td>304</td>\n",
              "      <td>https://images.media-allrecipes.com/userphotos...</td>\n",
              "      <td>Mike A.</td>\n",
              "      <td>2 (.25 ounce) packages active dry yeast**3/4 c...</td>\n",
              "      <td>Dissolve yeast in warm water.**Stir in sugar, ...</td>\n",
              "      <td>25.0</td>\n",
              "      <td>15.0</td>\n",
              "      <td>190.0</td>\n",
              "    </tr>\n",
              "    <tr>\n",
              "      <th>7001</th>\n",
              "      <td>Poppy Seed Bread with Glaze Recipe</td>\n",
              "      <td>137</td>\n",
              "      <td>https://images.media-allrecipes.com/userphotos...</td>\n",
              "      <td>Christina Jun</td>\n",
              "      <td>3 cups all-purpose flour**1 1/2 teaspoons salt...</td>\n",
              "      <td>Preheat oven to 350 degrees F (175 degrees C)....</td>\n",
              "      <td>15.0</td>\n",
              "      <td>60.0</td>\n",
              "      <td>80.0</td>\n",
              "    </tr>\n",
              "    <tr>\n",
              "      <th>7002</th>\n",
              "      <td>Czech Christmas Hoska Recipe</td>\n",
              "      <td>11</td>\n",
              "      <td>https://images.media-allrecipes.com/userphotos...</td>\n",
              "      <td>Carol Ponec-Nemec</td>\n",
              "      <td>1 (0.6 ounce) cake compressed fresh yeast**1/4...</td>\n",
              "      <td>Dissolve yeast in warm water.**In a large bowl...</td>\n",
              "      <td>60.0</td>\n",
              "      <td>45.0</td>\n",
              "      <td>330.0</td>\n",
              "    </tr>\n",
              "    <tr>\n",
              "      <th>7003</th>\n",
              "      <td>Applesauce Bread I Recipe</td>\n",
              "      <td>124</td>\n",
              "      <td>https://images.media-allrecipes.com/userphotos...</td>\n",
              "      <td>GAF55</td>\n",
              "      <td>3 cups all-purpose flour**3 eggs**2 cups white...</td>\n",
              "      <td>Preheat oven to 350 degrees F (175 degrees C)....</td>\n",
              "      <td>10.0</td>\n",
              "      <td>80.0</td>\n",
              "      <td>90.0</td>\n",
              "    </tr>\n",
              "    <tr>\n",
              "      <th>7004</th>\n",
              "      <td>Raisin Brown Bread Recipe</td>\n",
              "      <td>5</td>\n",
              "      <td>https://images.media-allrecipes.com/userphotos...</td>\n",
              "      <td>Tina</td>\n",
              "      <td>2 cups boiling water**1 cup rolled oats**2 tab...</td>\n",
              "      <td>Combine boiling water, oats, shortening, brown...</td>\n",
              "      <td>30.0</td>\n",
              "      <td>40.0</td>\n",
              "      <td>190.0</td>\n",
              "    </tr>\n",
              "  </tbody>\n",
              "</table>\n",
              "</div>"
            ],
            "text/plain": [
              "                                  Recipe Name  ... Total_Time\n",
              "RecipeID                                       ...           \n",
              "7000            Golden Crescent Rolls Recipe   ...      190.0\n",
              "7001      Poppy Seed Bread with Glaze Recipe   ...       80.0\n",
              "7002            Czech Christmas Hoska Recipe   ...      330.0\n",
              "7003               Applesauce Bread I Recipe   ...       90.0\n",
              "7004               Raisin Brown Bread Recipe   ...      190.0\n",
              "\n",
              "[5 rows x 9 columns]"
            ]
          },
          "metadata": {
            "tags": []
          },
          "execution_count": 13
        }
      ]
    },
    {
      "cell_type": "markdown",
      "metadata": {
        "id": "xtDr5e5IR1PC"
      },
      "source": [
        "## Recipe missing value imputation and removal"
      ]
    },
    {
      "cell_type": "code",
      "metadata": {
        "id": "sU0jvfoXPCTp",
        "outputId": "377e079b-6314-45e4-c84a-e24c588d7488",
        "colab": {
          "base_uri": "https://localhost:8080/"
        }
      },
      "source": [
        "recipes_df.isna().sum()"
      ],
      "execution_count": 14,
      "outputs": [
        {
          "output_type": "execute_result",
          "data": {
            "text/plain": [
              "Recipe Name        0\n",
              "Review Count       0\n",
              "Recipe Photo       0\n",
              "Author             1\n",
              "Ingredients      838\n",
              "Directions       844\n",
              "Prepare_Time    6519\n",
              "Cook_Time       8487\n",
              "Total_Time      6183\n",
              "dtype: int64"
            ]
          },
          "metadata": {
            "tags": []
          },
          "execution_count": 14
        }
      ]
    },
    {
      "cell_type": "code",
      "metadata": {
        "id": "A09mKXYdR9AT",
        "outputId": "9498334a-60c6-4a94-e50e-0e7be7610fe9",
        "colab": {
          "base_uri": "https://localhost:8080/"
        }
      },
      "source": [
        "# Remove recipes without ingredients or directions\n",
        "recipes_df.dropna(axis=0, how='any', subset=['Ingredients', 'Directions'], inplace=True)\n",
        "recipes_df.isna().sum()"
      ],
      "execution_count": 15,
      "outputs": [
        {
          "output_type": "execute_result",
          "data": {
            "text/plain": [
              "Recipe Name        0\n",
              "Review Count       0\n",
              "Recipe Photo       0\n",
              "Author             0\n",
              "Ingredients        0\n",
              "Directions         0\n",
              "Prepare_Time    5676\n",
              "Cook_Time       7644\n",
              "Total_Time      5340\n",
              "dtype: int64"
            ]
          },
          "metadata": {
            "tags": []
          },
          "execution_count": 15
        }
      ]
    },
    {
      "cell_type": "markdown",
      "metadata": {
        "id": "B_7ozGH742Bu"
      },
      "source": [
        "# Split and split ingredient table from recipe"
      ]
    },
    {
      "cell_type": "code",
      "metadata": {
        "id": "awUh1nZYhDzD",
        "outputId": "05b48ea7-b8bc-4405-a544-bcc138a78ab2",
        "colab": {
          "base_uri": "https://localhost:8080/"
        }
      },
      "source": [
        "recipes_df['Ingredients'][0].split('**')"
      ],
      "execution_count": 16,
      "outputs": [
        {
          "output_type": "execute_result",
          "data": {
            "text/plain": [
              "['2 (.25 ounce) packages active dry yeast',\n",
              " '3/4 cup warm water (110 degrees F/45 degrees C)',\n",
              " '1/2 cup white sugar',\n",
              " '1 teaspoon salt',\n",
              " '2 eggs',\n",
              " '1/2 cup butter, room temperature',\n",
              " '4 cups all-purpose flour',\n",
              " '1/4 cup butter, softened']"
            ]
          },
          "metadata": {
            "tags": []
          },
          "execution_count": 16
        }
      ]
    },
    {
      "cell_type": "code",
      "metadata": {
        "id": "hn9HPTVCSbhY"
      },
      "source": [
        "Ingred = recipes_df['Ingredients']"
      ],
      "execution_count": 17,
      "outputs": []
    },
    {
      "cell_type": "code",
      "metadata": {
        "id": "rPRBvV1CVWGO"
      },
      "source": [
        "# Unit set, only in Singular form\n",
        "unit_set = ['cup','ounce','pound','teaspoon','quart','tablespoon','slice','package']\n",
        "all_unit = \"|\".join(unit_set)"
      ],
      "execution_count": 18,
      "outputs": []
    },
    {
      "cell_type": "code",
      "metadata": {
        "id": "5bFcWRjj4Brr",
        "outputId": "7105c2d4-91d7-4b70-d3df-108eaf860373",
        "colab": {
          "base_uri": "https://localhost:8080/"
        }
      },
      "source": [
        "Ingred[4].split('**')"
      ],
      "execution_count": 19,
      "outputs": [
        {
          "output_type": "execute_result",
          "data": {
            "text/plain": [
              "['2 cups boiling water',\n",
              " '1 cup rolled oats',\n",
              " '2 tablespoons shortening',\n",
              " '3 tablespoons brown sugar',\n",
              " '4 teaspoons salt',\n",
              " '1 cup molasses',\n",
              " '1/2 cup warm water (110 degrees F/45 degrees C)',\n",
              " '1 teaspoon white sugar',\n",
              " '2 tablespoons active dry yeast',\n",
              " '3 cups warm water (110 degrees F/45 degrees C)',\n",
              " '12 cups bread flour',\n",
              " '1 1/2 cups raisins',\n",
              " '1 1/2 teaspoons ground cinnamon']"
            ]
          },
          "metadata": {
            "tags": []
          },
          "execution_count": 19
        }
      ]
    },
    {
      "cell_type": "code",
      "metadata": {
        "id": "5scI98QZ3juy",
        "outputId": "2f01fbda-b26b-4637-9b6c-f42c122a414e",
        "colab": {
          "base_uri": "https://localhost:8080/",
          "height": 166
        }
      },
      "source": [
        "extract_ingred(Ingred[0])"
      ],
      "execution_count": 20,
      "outputs": [
        {
          "output_type": "error",
          "ename": "NameError",
          "evalue": "ignored",
          "traceback": [
            "\u001b[0;31m---------------------------------------------------------------------------\u001b[0m",
            "\u001b[0;31mNameError\u001b[0m                                 Traceback (most recent call last)",
            "\u001b[0;32m<ipython-input-20-360f9874dabb>\u001b[0m in \u001b[0;36m<module>\u001b[0;34m()\u001b[0m\n\u001b[0;32m----> 1\u001b[0;31m \u001b[0mextract_ingred\u001b[0m\u001b[0;34m(\u001b[0m\u001b[0mIngred\u001b[0m\u001b[0;34m[\u001b[0m\u001b[0;36m0\u001b[0m\u001b[0;34m]\u001b[0m\u001b[0;34m)\u001b[0m\u001b[0;34m\u001b[0m\u001b[0;34m\u001b[0m\u001b[0m\n\u001b[0m",
            "\u001b[0;31mNameError\u001b[0m: name 'extract_ingred' is not defined"
          ]
        }
      ]
    },
    {
      "cell_type": "code",
      "metadata": {
        "id": "fSPWpVTWVrKB"
      },
      "source": [
        "def extract_ingred(row):\n",
        "  rows = row.split(\"**\")\n",
        "  res = []\n",
        "  for row in rows:\n",
        "    unit, quant, ing = None, 0, row\n",
        "    # If contain () use units in ()\n",
        "    if '(' in set(row) and row.find(')')!=len(row)-1:\n",
        "      unit = row[row.find('(')+1:row.find(')')]\n",
        "      quant = re.findall(\"\\d+\\.\\d+|\\d+|\\d{2,}?\",unit)\n",
        "      if quant: \n",
        "        quant = float(quant[0])\n",
        "      else:\n",
        "        quant = 0\n",
        "      measure = unit[-1:]\n",
        "      ing = (\" \".join(row[row.find(')')+1:].split()[1:]))\n",
        "      row = row[row.find(')')+1:]\n",
        "    else:\n",
        "\n",
        "      # Match quantity\n",
        "      num = re.findall(\"\\d+\\/[1-9][0-9]*|\\d+|\\d{2,}|\\d{3,}?\",row)\n",
        "      frac = 0\n",
        "      # Handle fractions\n",
        "      if num:\n",
        "        if (len(num)>1 or \"/\" in num[0]):\n",
        "        # Fraction\n",
        "          for n in num:\n",
        "            if \"/\" not in n:\n",
        "              quant += int(n)\n",
        "            else: \n",
        "              frac = n\n",
        "              ind_slash = frac.find('/')\n",
        "              frac = int(frac[ind_slash-1])/int(frac[ind_slash+1])\n",
        "              quant+= frac\n",
        "              break\n",
        "        else:\n",
        "          quant = float(num[0])\n",
        "      \n",
        "      # Store quantity as decimal\n",
        "      quant = quant+frac\n",
        "\n",
        "      # Match unit\n",
        "      unit = re.search(rf\"{all_unit}\",row)\n",
        "      if unit:\n",
        "        unit = unit.group()\n",
        "\n",
        "      # Remove suffixes with , or ()\n",
        "      if ',' in set(ing):\n",
        "        ing = row[: row.find(',')]\n",
        "      if '(' in set(ing):\n",
        "        ing = row[: row.find('(')]\n",
        "      ing = \" \".join(re.findall(rf\"(?!{all_unit})\\b([a-z]+)?\", ing)).strip()\n",
        "\n",
        "      \n",
        "    # Tokenize ingredients and remove verbs\n",
        "    ing_set = nltk.word_tokenize(ing)\n",
        "    tagged = nltk.pos_tag(ing_set, tagset = 'universal')\n",
        "    ing = \" \".join([word[0] for word in tagged if word[1]=='NOUN'])\n",
        "\n",
        "    res.append((round(quant,2),unit,ing))\n",
        "  return res"
      ],
      "execution_count": 21,
      "outputs": []
    },
    {
      "cell_type": "code",
      "metadata": {
        "id": "Pj3peIHnS-0D"
      },
      "source": [
        "New_ingred = Ingred.apply(extract_ingred)"
      ],
      "execution_count": 22,
      "outputs": []
    },
    {
      "cell_type": "code",
      "metadata": {
        "id": "q0UAAE5iu1Jk"
      },
      "source": [
        "ingredient_df = pd.DataFrame(New_ingred.explode())"
      ],
      "execution_count": 23,
      "outputs": []
    },
    {
      "cell_type": "code",
      "metadata": {
        "id": "5utD37Ac3Qsg"
      },
      "source": [
        "ingredient_df.head(5)\n",
        "ingredient_df[['quantity','unit', 'ingredient']] = pd.DataFrame(ingredient_df['Ingredients'].tolist(),index=ingredient_df.index)\n",
        "ingredient_df.drop(['Ingredients'], axis=1, inplace=True)"
      ],
      "execution_count": 24,
      "outputs": []
    },
    {
      "cell_type": "code",
      "metadata": {
        "id": "6-n_PM3N61Mo",
        "outputId": "19563fbf-13e2-4bc3-fefa-4686d3b013b7",
        "colab": {
          "base_uri": "https://localhost:8080/",
          "height": 446
        }
      },
      "source": [
        "ingredient_df"
      ],
      "execution_count": 25,
      "outputs": [
        {
          "output_type": "execute_result",
          "data": {
            "text/html": [
              "<div>\n",
              "<style scoped>\n",
              "    .dataframe tbody tr th:only-of-type {\n",
              "        vertical-align: middle;\n",
              "    }\n",
              "\n",
              "    .dataframe tbody tr th {\n",
              "        vertical-align: top;\n",
              "    }\n",
              "\n",
              "    .dataframe thead th {\n",
              "        text-align: right;\n",
              "    }\n",
              "</style>\n",
              "<table border=\"1\" class=\"dataframe\">\n",
              "  <thead>\n",
              "    <tr style=\"text-align: right;\">\n",
              "      <th></th>\n",
              "      <th>quantity</th>\n",
              "      <th>unit</th>\n",
              "      <th>ingredient</th>\n",
              "    </tr>\n",
              "    <tr>\n",
              "      <th>RecipeID</th>\n",
              "      <th></th>\n",
              "      <th></th>\n",
              "      <th></th>\n",
              "    </tr>\n",
              "  </thead>\n",
              "  <tbody>\n",
              "    <tr>\n",
              "      <th>7000</th>\n",
              "      <td>25.0</td>\n",
              "      <td>.25 ounce</td>\n",
              "      <td>yeast</td>\n",
              "    </tr>\n",
              "    <tr>\n",
              "      <th>7000</th>\n",
              "      <td>1.5</td>\n",
              "      <td>cup</td>\n",
              "      <td>water</td>\n",
              "    </tr>\n",
              "    <tr>\n",
              "      <th>7000</th>\n",
              "      <td>1.0</td>\n",
              "      <td>cup</td>\n",
              "      <td>sugar</td>\n",
              "    </tr>\n",
              "    <tr>\n",
              "      <th>7000</th>\n",
              "      <td>1.0</td>\n",
              "      <td>teaspoon</td>\n",
              "      <td>salt</td>\n",
              "    </tr>\n",
              "    <tr>\n",
              "      <th>7000</th>\n",
              "      <td>2.0</td>\n",
              "      <td>None</td>\n",
              "      <td>eggs</td>\n",
              "    </tr>\n",
              "    <tr>\n",
              "      <th>...</th>\n",
              "      <td>...</td>\n",
              "      <td>...</td>\n",
              "      <td>...</td>\n",
              "    </tr>\n",
              "    <tr>\n",
              "      <th>27594</th>\n",
              "      <td>12.0</td>\n",
              "      <td>12 inch</td>\n",
              "      <td>pizza crust</td>\n",
              "    </tr>\n",
              "    <tr>\n",
              "      <th>27594</th>\n",
              "      <td>2.0</td>\n",
              "      <td>cup</td>\n",
              "      <td>mozzarella cheese</td>\n",
              "    </tr>\n",
              "    <tr>\n",
              "      <th>27594</th>\n",
              "      <td>14.0</td>\n",
              "      <td>14 ounce</td>\n",
              "      <td>pizza sauce</td>\n",
              "    </tr>\n",
              "    <tr>\n",
              "      <th>27594</th>\n",
              "      <td>12.0</td>\n",
              "      <td>12 ounce</td>\n",
              "      <td>Johnsonville® Cheese Style Chicken Sausage</td>\n",
              "    </tr>\n",
              "    <tr>\n",
              "      <th>27594</th>\n",
              "      <td>3.5</td>\n",
              "      <td>3.5 ounce</td>\n",
              "      <td>pepperoni</td>\n",
              "    </tr>\n",
              "  </tbody>\n",
              "</table>\n",
              "<p>152864 rows × 3 columns</p>\n",
              "</div>"
            ],
            "text/plain": [
              "          quantity       unit                                  ingredient\n",
              "RecipeID                                                                 \n",
              "7000          25.0  .25 ounce                                       yeast\n",
              "7000           1.5        cup                                       water\n",
              "7000           1.0        cup                                       sugar\n",
              "7000           1.0   teaspoon                                        salt\n",
              "7000           2.0       None                                        eggs\n",
              "...            ...        ...                                         ...\n",
              "27594         12.0    12 inch                                 pizza crust\n",
              "27594          2.0        cup                           mozzarella cheese\n",
              "27594         14.0   14 ounce                                 pizza sauce\n",
              "27594         12.0   12 ounce  Johnsonville® Cheese Style Chicken Sausage\n",
              "27594          3.5  3.5 ounce                                   pepperoni\n",
              "\n",
              "[152864 rows x 3 columns]"
            ]
          },
          "metadata": {
            "tags": []
          },
          "execution_count": 25
        }
      ]
    },
    {
      "cell_type": "code",
      "metadata": {
        "id": "C3S2groI5zHv"
      },
      "source": [
        "unique_ingred = ingredient_df['ingredient'].unique()"
      ],
      "execution_count": 26,
      "outputs": []
    },
    {
      "cell_type": "code",
      "metadata": {
        "id": "LDQqD-oy57Mk"
      },
      "source": [
        "unique_ingred_df = pd.DataFrame(unique_ingred)"
      ],
      "execution_count": 27,
      "outputs": []
    },
    {
      "cell_type": "code",
      "metadata": {
        "id": "eE4v8Bj55_j3",
        "outputId": "141e1742-29c6-4057-de90-c4df6580df8e",
        "colab": {
          "base_uri": "https://localhost:8080/",
          "height": 415
        }
      },
      "source": [
        "unique_ingred_df"
      ],
      "execution_count": 28,
      "outputs": [
        {
          "output_type": "execute_result",
          "data": {
            "text/html": [
              "<div>\n",
              "<style scoped>\n",
              "    .dataframe tbody tr th:only-of-type {\n",
              "        vertical-align: middle;\n",
              "    }\n",
              "\n",
              "    .dataframe tbody tr th {\n",
              "        vertical-align: top;\n",
              "    }\n",
              "\n",
              "    .dataframe thead th {\n",
              "        text-align: right;\n",
              "    }\n",
              "</style>\n",
              "<table border=\"1\" class=\"dataframe\">\n",
              "  <thead>\n",
              "    <tr style=\"text-align: right;\">\n",
              "      <th></th>\n",
              "      <th>0</th>\n",
              "    </tr>\n",
              "  </thead>\n",
              "  <tbody>\n",
              "    <tr>\n",
              "      <th>0</th>\n",
              "      <td>yeast</td>\n",
              "    </tr>\n",
              "    <tr>\n",
              "      <th>1</th>\n",
              "      <td>water</td>\n",
              "    </tr>\n",
              "    <tr>\n",
              "      <th>2</th>\n",
              "      <td>sugar</td>\n",
              "    </tr>\n",
              "    <tr>\n",
              "      <th>3</th>\n",
              "      <td>salt</td>\n",
              "    </tr>\n",
              "    <tr>\n",
              "      <th>4</th>\n",
              "      <td>eggs</td>\n",
              "    </tr>\n",
              "    <tr>\n",
              "      <th>...</th>\n",
              "      <td>...</td>\n",
              "    </tr>\n",
              "    <tr>\n",
              "      <th>3795</th>\n",
              "      <td>pizza crust bread shell</td>\n",
              "    </tr>\n",
              "    <tr>\n",
              "      <th>3796</th>\n",
              "      <td>BUITONI® Pesto Sun-Dried Tomatoes</td>\n",
              "    </tr>\n",
              "    <tr>\n",
              "      <th>3797</th>\n",
              "      <td>onion alfalfa sprouts</td>\n",
              "    </tr>\n",
              "    <tr>\n",
              "      <th>3798</th>\n",
              "      <td>sugar replacement</td>\n",
              "    </tr>\n",
              "    <tr>\n",
              "      <th>3799</th>\n",
              "      <td>treacle molasses</td>\n",
              "    </tr>\n",
              "  </tbody>\n",
              "</table>\n",
              "<p>3800 rows × 1 columns</p>\n",
              "</div>"
            ],
            "text/plain": [
              "                                      0\n",
              "0                                 yeast\n",
              "1                                 water\n",
              "2                                 sugar\n",
              "3                                  salt\n",
              "4                                  eggs\n",
              "...                                 ...\n",
              "3795            pizza crust bread shell\n",
              "3796  BUITONI® Pesto Sun-Dried Tomatoes\n",
              "3797              onion alfalfa sprouts\n",
              "3798                  sugar replacement\n",
              "3799                   treacle molasses\n",
              "\n",
              "[3800 rows x 1 columns]"
            ]
          },
          "metadata": {
            "tags": []
          },
          "execution_count": 28
        }
      ]
    },
    {
      "cell_type": "code",
      "metadata": {
        "id": "ZXN1pPsU5AaN",
        "outputId": "fb1ee54f-76d2-41d6-c10e-6bc2dc6befb1",
        "colab": {
          "base_uri": "https://localhost:8080/",
          "height": 651
        }
      },
      "source": [
        "recipes_df.head(5)"
      ],
      "execution_count": 29,
      "outputs": [
        {
          "output_type": "execute_result",
          "data": {
            "text/html": [
              "<div>\n",
              "<style scoped>\n",
              "    .dataframe tbody tr th:only-of-type {\n",
              "        vertical-align: middle;\n",
              "    }\n",
              "\n",
              "    .dataframe tbody tr th {\n",
              "        vertical-align: top;\n",
              "    }\n",
              "\n",
              "    .dataframe thead th {\n",
              "        text-align: right;\n",
              "    }\n",
              "</style>\n",
              "<table border=\"1\" class=\"dataframe\">\n",
              "  <thead>\n",
              "    <tr style=\"text-align: right;\">\n",
              "      <th></th>\n",
              "      <th>Recipe Name</th>\n",
              "      <th>Review Count</th>\n",
              "      <th>Recipe Photo</th>\n",
              "      <th>Author</th>\n",
              "      <th>Ingredients</th>\n",
              "      <th>Directions</th>\n",
              "      <th>Prepare_Time</th>\n",
              "      <th>Cook_Time</th>\n",
              "      <th>Total_Time</th>\n",
              "    </tr>\n",
              "    <tr>\n",
              "      <th>RecipeID</th>\n",
              "      <th></th>\n",
              "      <th></th>\n",
              "      <th></th>\n",
              "      <th></th>\n",
              "      <th></th>\n",
              "      <th></th>\n",
              "      <th></th>\n",
              "      <th></th>\n",
              "      <th></th>\n",
              "    </tr>\n",
              "  </thead>\n",
              "  <tbody>\n",
              "    <tr>\n",
              "      <th>7000</th>\n",
              "      <td>Golden Crescent Rolls Recipe</td>\n",
              "      <td>304</td>\n",
              "      <td>https://images.media-allrecipes.com/userphotos...</td>\n",
              "      <td>Mike A.</td>\n",
              "      <td>2 (.25 ounce) packages active dry yeast**3/4 c...</td>\n",
              "      <td>Dissolve yeast in warm water.**Stir in sugar, ...</td>\n",
              "      <td>25.0</td>\n",
              "      <td>15.0</td>\n",
              "      <td>190.0</td>\n",
              "    </tr>\n",
              "    <tr>\n",
              "      <th>7001</th>\n",
              "      <td>Poppy Seed Bread with Glaze Recipe</td>\n",
              "      <td>137</td>\n",
              "      <td>https://images.media-allrecipes.com/userphotos...</td>\n",
              "      <td>Christina Jun</td>\n",
              "      <td>3 cups all-purpose flour**1 1/2 teaspoons salt...</td>\n",
              "      <td>Preheat oven to 350 degrees F (175 degrees C)....</td>\n",
              "      <td>15.0</td>\n",
              "      <td>60.0</td>\n",
              "      <td>80.0</td>\n",
              "    </tr>\n",
              "    <tr>\n",
              "      <th>7002</th>\n",
              "      <td>Czech Christmas Hoska Recipe</td>\n",
              "      <td>11</td>\n",
              "      <td>https://images.media-allrecipes.com/userphotos...</td>\n",
              "      <td>Carol Ponec-Nemec</td>\n",
              "      <td>1 (0.6 ounce) cake compressed fresh yeast**1/4...</td>\n",
              "      <td>Dissolve yeast in warm water.**In a large bowl...</td>\n",
              "      <td>60.0</td>\n",
              "      <td>45.0</td>\n",
              "      <td>330.0</td>\n",
              "    </tr>\n",
              "    <tr>\n",
              "      <th>7003</th>\n",
              "      <td>Applesauce Bread I Recipe</td>\n",
              "      <td>124</td>\n",
              "      <td>https://images.media-allrecipes.com/userphotos...</td>\n",
              "      <td>GAF55</td>\n",
              "      <td>3 cups all-purpose flour**3 eggs**2 cups white...</td>\n",
              "      <td>Preheat oven to 350 degrees F (175 degrees C)....</td>\n",
              "      <td>10.0</td>\n",
              "      <td>80.0</td>\n",
              "      <td>90.0</td>\n",
              "    </tr>\n",
              "    <tr>\n",
              "      <th>7004</th>\n",
              "      <td>Raisin Brown Bread Recipe</td>\n",
              "      <td>5</td>\n",
              "      <td>https://images.media-allrecipes.com/userphotos...</td>\n",
              "      <td>Tina</td>\n",
              "      <td>2 cups boiling water**1 cup rolled oats**2 tab...</td>\n",
              "      <td>Combine boiling water, oats, shortening, brown...</td>\n",
              "      <td>30.0</td>\n",
              "      <td>40.0</td>\n",
              "      <td>190.0</td>\n",
              "    </tr>\n",
              "  </tbody>\n",
              "</table>\n",
              "</div>"
            ],
            "text/plain": [
              "                                  Recipe Name  ... Total_Time\n",
              "RecipeID                                       ...           \n",
              "7000            Golden Crescent Rolls Recipe   ...      190.0\n",
              "7001      Poppy Seed Bread with Glaze Recipe   ...       80.0\n",
              "7002            Czech Christmas Hoska Recipe   ...      330.0\n",
              "7003               Applesauce Bread I Recipe   ...       90.0\n",
              "7004               Raisin Brown Bread Recipe   ...      190.0\n",
              "\n",
              "[5 rows x 9 columns]"
            ]
          },
          "metadata": {
            "tags": []
          },
          "execution_count": 29
        }
      ]
    },
    {
      "cell_type": "markdown",
      "metadata": {
        "id": "R_qah4tj5Q0f"
      },
      "source": [
        "# Clean reviews"
      ]
    },
    {
      "cell_type": "code",
      "metadata": {
        "id": "tO95oEpN5SK2",
        "outputId": "6ffc47ba-6064-49b1-9dc7-a7fcc5e8247c",
        "colab": {
          "base_uri": "https://localhost:8080/"
        }
      },
      "source": [
        "reviews_df.isna().sum()"
      ],
      "execution_count": 30,
      "outputs": [
        {
          "output_type": "execute_result",
          "data": {
            "text/plain": [
              "RecipeID       0\n",
              "profileID    178\n",
              "Rate         178\n",
              "Comment      365\n",
              "dtype: int64"
            ]
          },
          "metadata": {
            "tags": []
          },
          "execution_count": 30
        }
      ]
    },
    {
      "cell_type": "code",
      "metadata": {
        "id": "n-Tw9_xr5UQF"
      },
      "source": [
        "# Drop rows without ratings, drop comment column\n",
        "reviews_df.dropna(subset=['Rate'], axis=0, inplace=True)\n",
        "reviews_df.drop(['Comment'], axis=1, inplace=True)"
      ],
      "execution_count": 31,
      "outputs": []
    },
    {
      "cell_type": "code",
      "metadata": {
        "id": "YhV-Ifbw7hkP",
        "outputId": "c6099450-175c-4d09-a928-11b52aee7b13",
        "colab": {
          "base_uri": "https://localhost:8080/"
        }
      },
      "source": [
        "# reviews_df.RecipeID.nunique()\n",
        "(reviews_df[reviews_df['RecipeID'].isin(diff)].index)"
      ],
      "execution_count": 51,
      "outputs": [
        {
          "output_type": "execute_result",
          "data": {
            "text/plain": [
              "Int64Index([ 422953,  422954,  422955,  422956,  422957,  422958,  422959,\n",
              "             422960,  422961,  422962,\n",
              "            ...\n",
              "            1578890, 1578891, 1578892, 1578893, 1578894, 1578895, 1578896,\n",
              "            1578897, 1578898, 1578899],\n",
              "           dtype='int64', length=139529)"
            ]
          },
          "metadata": {
            "tags": []
          },
          "execution_count": 51
        }
      ]
    },
    {
      "cell_type": "code",
      "metadata": {
        "id": "kv7Aq6_t5nME",
        "outputId": "f7d1b5e4-c853-4edb-d215-9ae728df107e",
        "colab": {
          "base_uri": "https://localhost:8080/"
        }
      },
      "source": [
        "reviews_df.isna().sum()"
      ],
      "execution_count": 32,
      "outputs": [
        {
          "output_type": "execute_result",
          "data": {
            "text/plain": [
              "RecipeID     0\n",
              "profileID    0\n",
              "Rate         0\n",
              "dtype: int64"
            ]
          },
          "metadata": {
            "tags": []
          },
          "execution_count": 32
        }
      ]
    },
    {
      "cell_type": "code",
      "metadata": {
        "id": "EP3ZF8vNbumb",
        "outputId": "2822747d-101f-485e-b2b8-3c7c3368eb77",
        "colab": {
          "base_uri": "https://localhost:8080/"
        }
      },
      "source": [
        "# Check if all recipesID in review exists in recipes\n",
        "review_id = set(reviews_df.RecipeID.unique())\n",
        "recipe_id = set(recipes_df.index.unique())\n",
        "diff = list(review_id - recipe_id)\n",
        "\n",
        "# Drop mismatch from review table\n",
        "reviews_df.drop(index=(reviews_df[reviews_df['RecipeID'].isin(diff)]).index, inplace=True)\n",
        "len(reviews_df)"
      ],
      "execution_count": 54,
      "outputs": [
        {
          "output_type": "execute_result",
          "data": {
            "text/plain": [
              "1439193"
            ]
          },
          "metadata": {
            "tags": []
          },
          "execution_count": 54
        }
      ]
    },
    {
      "cell_type": "code",
      "metadata": {
        "id": "Kljbcqv-D8r7"
      },
      "source": [
        "reviews_df.to_csv('reviews_cleaned.csv')\n",
        "unique_ingred_df.to_csv('ingredient.csv')\n",
        "recipes_df.to_csv('recipes_cleaned.csv')\n",
        "ingredient_df.to_csv('ingredient_recipe.csv')"
      ],
      "execution_count": 55,
      "outputs": []
    },
    {
      "cell_type": "markdown",
      "metadata": {
        "id": "UIjBPwKv5wa7"
      },
      "source": [
        "Next steps: \n",
        "\n",
        "1.   Check if recipeID in review exists in recipes\n",
        "2.   Group by ingredient\n",
        "\n"
      ]
    }
  ]
}