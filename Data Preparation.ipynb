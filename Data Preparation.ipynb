{
  "nbformat": 4,
  "nbformat_minor": 0,
  "metadata": {
    "colab": {
      "name": "Recipe EDA.ipynb",
      "provenance": [],
      "collapsed_sections": [],
      "toc_visible": true
    },
    "kernelspec": {
      "name": "python3",
      "display_name": "Python 3"
    },
    "accelerator": "GPU"
  },
  "cells": [
    {
      "cell_type": "code",
      "metadata": {
        "id": "O1EoOsbBD_MU",
        "outputId": "912d423d-455d-4439-9569-e0c7b764d34b",
        "colab": {
          "base_uri": "https://localhost:8080/"
        }
      },
      "source": [
        "!pip install pandasql\n",
        "!pip install kaggle"
      ],
      "execution_count": 1,
      "outputs": [
        {
          "output_type": "stream",
          "text": [
            "Collecting pandasql\n",
            "  Downloading https://files.pythonhosted.org/packages/6b/c4/ee4096ffa2eeeca0c749b26f0371bd26aa5c8b611c43de99a4f86d3de0a7/pandasql-0.7.3.tar.gz\n",
            "Requirement already satisfied: numpy in /usr/local/lib/python3.6/dist-packages (from pandasql) (1.18.5)\n",
            "Requirement already satisfied: pandas in /usr/local/lib/python3.6/dist-packages (from pandasql) (1.1.4)\n",
            "Requirement already satisfied: sqlalchemy in /usr/local/lib/python3.6/dist-packages (from pandasql) (1.3.20)\n",
            "Requirement already satisfied: python-dateutil>=2.7.3 in /usr/local/lib/python3.6/dist-packages (from pandas->pandasql) (2.8.1)\n",
            "Requirement already satisfied: pytz>=2017.2 in /usr/local/lib/python3.6/dist-packages (from pandas->pandasql) (2018.9)\n",
            "Requirement already satisfied: six>=1.5 in /usr/local/lib/python3.6/dist-packages (from python-dateutil>=2.7.3->pandas->pandasql) (1.15.0)\n",
            "Building wheels for collected packages: pandasql\n",
            "  Building wheel for pandasql (setup.py) ... \u001b[?25l\u001b[?25hdone\n",
            "  Created wheel for pandasql: filename=pandasql-0.7.3-cp36-none-any.whl size=26819 sha256=bc5a7c88c857a9fa217d98e2628db96779d05c5c022b7f9defb7356aa62314d0\n",
            "  Stored in directory: /root/.cache/pip/wheels/53/6c/18/b87a2e5fa8a82e9c026311de56210b8d1c01846e18a9607fc9\n",
            "Successfully built pandasql\n",
            "Installing collected packages: pandasql\n",
            "Successfully installed pandasql-0.7.3\n",
            "Requirement already satisfied: kaggle in /usr/local/lib/python3.6/dist-packages (1.5.9)\n",
            "Requirement already satisfied: python-dateutil in /usr/local/lib/python3.6/dist-packages (from kaggle) (2.8.1)\n",
            "Requirement already satisfied: requests in /usr/local/lib/python3.6/dist-packages (from kaggle) (2.23.0)\n",
            "Requirement already satisfied: six>=1.10 in /usr/local/lib/python3.6/dist-packages (from kaggle) (1.15.0)\n",
            "Requirement already satisfied: python-slugify in /usr/local/lib/python3.6/dist-packages (from kaggle) (4.0.1)\n",
            "Requirement already satisfied: slugify in /usr/local/lib/python3.6/dist-packages (from kaggle) (0.0.1)\n",
            "Requirement already satisfied: certifi in /usr/local/lib/python3.6/dist-packages (from kaggle) (2020.6.20)\n",
            "Requirement already satisfied: tqdm in /usr/local/lib/python3.6/dist-packages (from kaggle) (4.41.1)\n",
            "Requirement already satisfied: urllib3 in /usr/local/lib/python3.6/dist-packages (from kaggle) (1.24.3)\n",
            "Requirement already satisfied: chardet<4,>=3.0.2 in /usr/local/lib/python3.6/dist-packages (from requests->kaggle) (3.0.4)\n",
            "Requirement already satisfied: idna<3,>=2.5 in /usr/local/lib/python3.6/dist-packages (from requests->kaggle) (2.10)\n",
            "Requirement already satisfied: text-unidecode>=1.3 in /usr/local/lib/python3.6/dist-packages (from python-slugify->kaggle) (1.3)\n"
          ],
          "name": "stdout"
        }
      ]
    },
    {
      "cell_type": "code",
      "metadata": {
        "id": "iQqMHHAoDfDd"
      },
      "source": [
        "import pandas as pd\n",
        "import numpy as np\n",
        "import pandasql\n",
        "import re\n",
        "import nltk"
      ],
      "execution_count": 2,
      "outputs": []
    },
    {
      "cell_type": "code",
      "metadata": {
        "id": "hS-ursYpqHOe",
        "outputId": "1109799b-a734-47c6-a9d2-026aae088eaa",
        "colab": {
          "base_uri": "https://localhost:8080/"
        }
      },
      "source": [
        "nltk.download('universal_tagset')\n",
        "nltk.download('punkt')\n",
        "nltk.download('averaged_perceptron_tagger')"
      ],
      "execution_count": 3,
      "outputs": [
        {
          "output_type": "stream",
          "text": [
            "[nltk_data] Downloading package universal_tagset to /root/nltk_data...\n",
            "[nltk_data]   Unzipping taggers/universal_tagset.zip.\n",
            "[nltk_data] Downloading package punkt to /root/nltk_data...\n",
            "[nltk_data]   Unzipping tokenizers/punkt.zip.\n",
            "[nltk_data] Downloading package averaged_perceptron_tagger to\n",
            "[nltk_data]     /root/nltk_data...\n",
            "[nltk_data]   Unzipping taggers/averaged_perceptron_tagger.zip.\n"
          ],
          "name": "stdout"
        },
        {
          "output_type": "execute_result",
          "data": {
            "text/plain": [
              "True"
            ]
          },
          "metadata": {
            "tags": []
          },
          "execution_count": 3
        }
      ]
    },
    {
      "cell_type": "markdown",
      "metadata": {
        "id": "Mekdo0q3D8yx"
      },
      "source": [
        "# Load raw dataset\n",
        "\n",
        "Pulled and unzipped data from [kaggle](https://www.kaggle.com/kanaryayi/recipe-ingredients-and-reviews?select=reviews.csv) using Kaggle API. "
      ]
    },
    {
      "cell_type": "code",
      "metadata": {
        "id": "UH4tdTlOGPPV"
      },
      "source": [
        "!mkdir /root/.kaggle/\n",
        "!touch /root/.kaggle/\n",
        "!touch ~/.kaggle/kaggle.json\n",
        "\n",
        "api_token = {\"username\":\"songyuyve\",\"key\":\"b1bb938576fca9501c01cca2c3b0fa22\"}\n",
        "\n",
        "import json\n",
        "\n",
        "with open('/root/.kaggle/kaggle.json', 'w') as file:\n",
        "    json.dump(api_token, file)\n",
        "\n",
        "!chmod 600 ~/.kaggle/kaggle.json"
      ],
      "execution_count": 4,
      "outputs": []
    },
    {
      "cell_type": "code",
      "metadata": {
        "id": "Zyp56GX5D7qb",
        "outputId": "5d76dc44-5c33-4549-f46a-1fcb3760371a",
        "colab": {
          "base_uri": "https://localhost:8080/"
        }
      },
      "source": [
        "!kaggle datasets download -d kanaryayi/recipe-ingredients-and-reviews -f recipes.csv\n",
        "!kaggle datasets download -d kanaryayi/recipe-ingredients-and-reviews -f reviews.csv"
      ],
      "execution_count": 131,
      "outputs": [
        {
          "output_type": "stream",
          "text": [
            "401 - Unauthorized\n",
            "401 - Unauthorized\n"
          ],
          "name": "stdout"
        }
      ]
    },
    {
      "cell_type": "code",
      "metadata": {
        "id": "ibuLEbbzEV7h",
        "outputId": "3add78cb-7105-4318-d239-32240c6811f9",
        "colab": {
          "base_uri": "https://localhost:8080/"
        }
      },
      "source": [
        "!unzip recipes.csv.zip recipes.csv\n",
        "!unzip reviews.csv.zip reviews.csv"
      ],
      "execution_count": 132,
      "outputs": [
        {
          "output_type": "stream",
          "text": [
            "Archive:  recipes.csv.zip\n",
            "replace recipes.csv? [y]es, [n]o, [A]ll, [N]one, [r]ename: n\n",
            "Archive:  reviews.csv.zip\n",
            "replace reviews.csv? [y]es, [n]o, [A]ll, [N]one, [r]ename: n\n"
          ],
          "name": "stdout"
        }
      ]
    },
    {
      "cell_type": "markdown",
      "metadata": {
        "id": "4I5FpR7UHZ6c"
      },
      "source": [
        "# Import raw data"
      ]
    },
    {
      "cell_type": "code",
      "metadata": {
        "id": "OHSU1KeIHDJC",
        "outputId": "e1263824-5c7c-47a7-fbdb-3149536dc6e2",
        "colab": {
          "base_uri": "https://localhost:8080/"
        }
      },
      "source": [
        "recipes_df = pd.read_csv('recipes.csv', sep=';',  encoding= 'unicode_escape' , quotechar=\"'\")\n",
        "reviews_df = pd.read_csv('reviews.csv', delimiter=';', encoding='unicode_escape' , quotechar=\"'\")"
      ],
      "execution_count": 247,
      "outputs": [
        {
          "output_type": "stream",
          "text": [
            "/usr/local/lib/python3.6/dist-packages/IPython/core/interactiveshell.py:2718: DtypeWarning: Columns (0,1,2) have mixed types.Specify dtype option on import or set low_memory=False.\n",
            "  interactivity=interactivity, compiler=compiler, result=result)\n"
          ],
          "name": "stderr"
        }
      ]
    },
    {
      "cell_type": "code",
      "metadata": {
        "id": "GOJM-NYBIsb3",
        "outputId": "44c1fc91-df43-451e-db09-5038de9fdeff",
        "colab": {
          "base_uri": "https://localhost:8080/",
          "height": 621
        }
      },
      "source": [
        "recipes_df.head(5)"
      ],
      "execution_count": 177,
      "outputs": [
        {
          "output_type": "execute_result",
          "data": {
            "text/html": [
              "<div>\n",
              "<style scoped>\n",
              "    .dataframe tbody tr th:only-of-type {\n",
              "        vertical-align: middle;\n",
              "    }\n",
              "\n",
              "    .dataframe tbody tr th {\n",
              "        vertical-align: top;\n",
              "    }\n",
              "\n",
              "    .dataframe thead th {\n",
              "        text-align: right;\n",
              "    }\n",
              "</style>\n",
              "<table border=\"1\" class=\"dataframe\">\n",
              "  <thead>\n",
              "    <tr style=\"text-align: right;\">\n",
              "      <th></th>\n",
              "      <th>Recipe Name</th>\n",
              "      <th>RecipeID</th>\n",
              "      <th>Review Count</th>\n",
              "      <th>Recipe Photo</th>\n",
              "      <th>Author</th>\n",
              "      <th>Prepare Time</th>\n",
              "      <th>Cook Time</th>\n",
              "      <th>Total Time</th>\n",
              "      <th>Ingredients</th>\n",
              "      <th>Directions</th>\n",
              "    </tr>\n",
              "  </thead>\n",
              "  <tbody>\n",
              "    <tr>\n",
              "      <th>0</th>\n",
              "      <td>Golden Crescent Rolls Recipe</td>\n",
              "      <td>7000</td>\n",
              "      <td>304</td>\n",
              "      <td>https://images.media-allrecipes.com/userphotos...</td>\n",
              "      <td>Mike A.</td>\n",
              "      <td>25 m</td>\n",
              "      <td>15 m</td>\n",
              "      <td>3 h 10 m</td>\n",
              "      <td>2 (.25 ounce) packages active dry yeast**3/4 c...</td>\n",
              "      <td>Dissolve yeast in warm water.**Stir in sugar, ...</td>\n",
              "    </tr>\n",
              "    <tr>\n",
              "      <th>1</th>\n",
              "      <td>Poppy Seed Bread with Glaze Recipe</td>\n",
              "      <td>7001</td>\n",
              "      <td>137</td>\n",
              "      <td>https://images.media-allrecipes.com/userphotos...</td>\n",
              "      <td>Christina Jun</td>\n",
              "      <td>15 m</td>\n",
              "      <td>1 h</td>\n",
              "      <td>1 h 20 m</td>\n",
              "      <td>3 cups all-purpose flour**1 1/2 teaspoons salt...</td>\n",
              "      <td>Preheat oven to 350 degrees F (175 degrees C)....</td>\n",
              "    </tr>\n",
              "    <tr>\n",
              "      <th>2</th>\n",
              "      <td>Czech Christmas Hoska Recipe</td>\n",
              "      <td>7002</td>\n",
              "      <td>11</td>\n",
              "      <td>https://images.media-allrecipes.com/userphotos...</td>\n",
              "      <td>Carol Ponec-Nemec</td>\n",
              "      <td>1 h</td>\n",
              "      <td>45 m</td>\n",
              "      <td>5 h 30 m</td>\n",
              "      <td>1 (0.6 ounce) cake compressed fresh yeast**1/4...</td>\n",
              "      <td>Dissolve yeast in warm water.**In a large bowl...</td>\n",
              "    </tr>\n",
              "    <tr>\n",
              "      <th>3</th>\n",
              "      <td>Applesauce Bread I Recipe</td>\n",
              "      <td>7003</td>\n",
              "      <td>124</td>\n",
              "      <td>https://images.media-allrecipes.com/userphotos...</td>\n",
              "      <td>GAF55</td>\n",
              "      <td>10 m</td>\n",
              "      <td>1 h 20 m</td>\n",
              "      <td>1 h 30 m</td>\n",
              "      <td>3 cups all-purpose flour**3 eggs**2 cups white...</td>\n",
              "      <td>Preheat oven to 350 degrees F (175 degrees C)....</td>\n",
              "    </tr>\n",
              "    <tr>\n",
              "      <th>4</th>\n",
              "      <td>Raisin Brown Bread Recipe</td>\n",
              "      <td>7004</td>\n",
              "      <td>5</td>\n",
              "      <td>https://images.media-allrecipes.com/userphotos...</td>\n",
              "      <td>Tina</td>\n",
              "      <td>30 m</td>\n",
              "      <td>40 m</td>\n",
              "      <td>3 h 10 m</td>\n",
              "      <td>2 cups boiling water**1 cup rolled oats**2 tab...</td>\n",
              "      <td>Combine boiling water, oats, shortening, brown...</td>\n",
              "    </tr>\n",
              "  </tbody>\n",
              "</table>\n",
              "</div>"
            ],
            "text/plain": [
              "                           Recipe Name  ...                                         Directions\n",
              "0        Golden Crescent Rolls Recipe   ...  Dissolve yeast in warm water.**Stir in sugar, ...\n",
              "1  Poppy Seed Bread with Glaze Recipe   ...  Preheat oven to 350 degrees F (175 degrees C)....\n",
              "2        Czech Christmas Hoska Recipe   ...  Dissolve yeast in warm water.**In a large bowl...\n",
              "3           Applesauce Bread I Recipe   ...  Preheat oven to 350 degrees F (175 degrees C)....\n",
              "4           Raisin Brown Bread Recipe   ...  Combine boiling water, oats, shortening, brown...\n",
              "\n",
              "[5 rows x 10 columns]"
            ]
          },
          "metadata": {
            "tags": []
          },
          "execution_count": 177
        }
      ]
    },
    {
      "cell_type": "code",
      "metadata": {
        "id": "krEj7LYpLo6d",
        "outputId": "3b39779c-3737-4d38-99c4-7e2ad74521c8",
        "colab": {
          "base_uri": "https://localhost:8080/",
          "height": 202
        }
      },
      "source": [
        "reviews_df.head(5)"
      ],
      "execution_count": 178,
      "outputs": [
        {
          "output_type": "execute_result",
          "data": {
            "text/html": [
              "<div>\n",
              "<style scoped>\n",
              "    .dataframe tbody tr th:only-of-type {\n",
              "        vertical-align: middle;\n",
              "    }\n",
              "\n",
              "    .dataframe tbody tr th {\n",
              "        vertical-align: top;\n",
              "    }\n",
              "\n",
              "    .dataframe thead th {\n",
              "        text-align: right;\n",
              "    }\n",
              "</style>\n",
              "<table border=\"1\" class=\"dataframe\">\n",
              "  <thead>\n",
              "    <tr style=\"text-align: right;\">\n",
              "      <th></th>\n",
              "      <th>RecipeID</th>\n",
              "      <th>profileID</th>\n",
              "      <th>Rate</th>\n",
              "      <th>Comment</th>\n",
              "    </tr>\n",
              "  </thead>\n",
              "  <tbody>\n",
              "    <tr>\n",
              "      <th>0</th>\n",
              "      <td>7000</td>\n",
              "      <td>675719</td>\n",
              "      <td>5</td>\n",
              "      <td>Oh Yay!  I've never made any kind of bread fro...</td>\n",
              "    </tr>\n",
              "    <tr>\n",
              "      <th>1</th>\n",
              "      <td>7000</td>\n",
              "      <td>1478626</td>\n",
              "      <td>5</td>\n",
              "      <td>These rolls are wonderful. I had to bake them ...</td>\n",
              "    </tr>\n",
              "    <tr>\n",
              "      <th>2</th>\n",
              "      <td>7000</td>\n",
              "      <td>608663</td>\n",
              "      <td>5</td>\n",
              "      <td>This recipe was made for a group of 120 in a c...</td>\n",
              "    </tr>\n",
              "    <tr>\n",
              "      <th>3</th>\n",
              "      <td>7000</td>\n",
              "      <td>2785736</td>\n",
              "      <td>5</td>\n",
              "      <td>WOO HOO.. I did it with the help from my fello...</td>\n",
              "    </tr>\n",
              "    <tr>\n",
              "      <th>4</th>\n",
              "      <td>7000</td>\n",
              "      <td>594474</td>\n",
              "      <td>5</td>\n",
              "      <td>These are great!! Not a croissant, but much li...</td>\n",
              "    </tr>\n",
              "  </tbody>\n",
              "</table>\n",
              "</div>"
            ],
            "text/plain": [
              "  RecipeID profileID Rate                                            Comment\n",
              "0     7000    675719    5  Oh Yay!  I've never made any kind of bread fro...\n",
              "1     7000   1478626    5  These rolls are wonderful. I had to bake them ...\n",
              "2     7000    608663    5  This recipe was made for a group of 120 in a c...\n",
              "3     7000   2785736    5  WOO HOO.. I did it with the help from my fello...\n",
              "4     7000    594474    5  These are great!! Not a croissant, but much li..."
            ]
          },
          "metadata": {
            "tags": []
          },
          "execution_count": 178
        }
      ]
    },
    {
      "cell_type": "markdown",
      "metadata": {
        "id": "R8eapC_WNCNx"
      },
      "source": [
        "# Prepare Recipe data"
      ]
    },
    {
      "cell_type": "markdown",
      "metadata": {
        "id": "uPc8y5SlNOm7"
      },
      "source": [
        "Below are steps we took to align data with our development needs:\n",
        "\n",
        "\n",
        "1.   Sanity checking: \n",
        "  1. convert column with time, prefixed with time unitis, to numeric values with unit minutes.\n",
        "  2. convert *RecipeID* to integers, remove rows with invalid records.\n",
        "  3. drop recipes without *Directions*.\n",
        "2.   Reformat *Ingredient* column, extract ingredient name, unit and quantity, and store this information within an independent table, referencing Recipe_df using *RecipeID*.\n",
        "3.   Extract all unique ingredient items and create a Ingredient table, each ingredient identified by a primary key.\n",
        "\n"
      ]
    },
    {
      "cell_type": "markdown",
      "metadata": {
        "id": "L_aSti2e6_m-"
      },
      "source": [
        "## Convert time string to numeric values in minutes"
      ]
    },
    {
      "cell_type": "code",
      "metadata": {
        "id": "lGvGqrrPNfXc"
      },
      "source": [
        "def time_to_min(row):\n",
        "  ''' Unify time columns to minutes\n",
        "  '''\n",
        "  # check contains number\n",
        "  if not any(char.isdigit() for char in row):\n",
        "    return None\n",
        "  \n",
        "  day, hour, minut = 0, 0, 0\n",
        "  hour_ind, day_ind = 0, 0\n",
        "  if 'd' in row:\n",
        "    day = float(row[:row.find('d')].strip(' '))\n",
        "    row = row[row.find('d')+1:]\n",
        "  if 'h' in row:\n",
        "    hour = float(row[:row.find('h')].strip(' '))\n",
        "    row = row[row.find('h')+1:]\n",
        "  if 'm' in row:\n",
        "    minut = float(row[:row.find('m')].strip(' '))\n",
        "  return hour*60+minut+day*1440"
      ],
      "execution_count": 179,
      "outputs": []
    },
    {
      "cell_type": "code",
      "metadata": {
        "id": "jJZnTM4fM9nH",
        "outputId": "74e6f68e-b8b2-4406-af81-b8f102b3eea3",
        "colab": {
          "base_uri": "https://localhost:8080/",
          "height": 621
        }
      },
      "source": [
        "recipes_df['Prepare_Time'] = recipes_df['Prepare Time'].apply(time_to_min)\n",
        "recipes_df['Cook_Time'] = recipes_df['Cook Time'].apply(time_to_min)\n",
        "recipes_df['Total_Time'] = recipes_df['Total Time'].apply(time_to_min)\n",
        "\n",
        "recipes_df.drop(['Total Time', 'Cook Time', 'Prepare Time'], axis=1, inplace=True)\n",
        "recipes_df.head(5)"
      ],
      "execution_count": 180,
      "outputs": [
        {
          "output_type": "execute_result",
          "data": {
            "text/html": [
              "<div>\n",
              "<style scoped>\n",
              "    .dataframe tbody tr th:only-of-type {\n",
              "        vertical-align: middle;\n",
              "    }\n",
              "\n",
              "    .dataframe tbody tr th {\n",
              "        vertical-align: top;\n",
              "    }\n",
              "\n",
              "    .dataframe thead th {\n",
              "        text-align: right;\n",
              "    }\n",
              "</style>\n",
              "<table border=\"1\" class=\"dataframe\">\n",
              "  <thead>\n",
              "    <tr style=\"text-align: right;\">\n",
              "      <th></th>\n",
              "      <th>Recipe Name</th>\n",
              "      <th>RecipeID</th>\n",
              "      <th>Review Count</th>\n",
              "      <th>Recipe Photo</th>\n",
              "      <th>Author</th>\n",
              "      <th>Ingredients</th>\n",
              "      <th>Directions</th>\n",
              "      <th>Prepare_Time</th>\n",
              "      <th>Cook_Time</th>\n",
              "      <th>Total_Time</th>\n",
              "    </tr>\n",
              "  </thead>\n",
              "  <tbody>\n",
              "    <tr>\n",
              "      <th>0</th>\n",
              "      <td>Golden Crescent Rolls Recipe</td>\n",
              "      <td>7000</td>\n",
              "      <td>304</td>\n",
              "      <td>https://images.media-allrecipes.com/userphotos...</td>\n",
              "      <td>Mike A.</td>\n",
              "      <td>2 (.25 ounce) packages active dry yeast**3/4 c...</td>\n",
              "      <td>Dissolve yeast in warm water.**Stir in sugar, ...</td>\n",
              "      <td>25.0</td>\n",
              "      <td>15.0</td>\n",
              "      <td>190.0</td>\n",
              "    </tr>\n",
              "    <tr>\n",
              "      <th>1</th>\n",
              "      <td>Poppy Seed Bread with Glaze Recipe</td>\n",
              "      <td>7001</td>\n",
              "      <td>137</td>\n",
              "      <td>https://images.media-allrecipes.com/userphotos...</td>\n",
              "      <td>Christina Jun</td>\n",
              "      <td>3 cups all-purpose flour**1 1/2 teaspoons salt...</td>\n",
              "      <td>Preheat oven to 350 degrees F (175 degrees C)....</td>\n",
              "      <td>15.0</td>\n",
              "      <td>60.0</td>\n",
              "      <td>80.0</td>\n",
              "    </tr>\n",
              "    <tr>\n",
              "      <th>2</th>\n",
              "      <td>Czech Christmas Hoska Recipe</td>\n",
              "      <td>7002</td>\n",
              "      <td>11</td>\n",
              "      <td>https://images.media-allrecipes.com/userphotos...</td>\n",
              "      <td>Carol Ponec-Nemec</td>\n",
              "      <td>1 (0.6 ounce) cake compressed fresh yeast**1/4...</td>\n",
              "      <td>Dissolve yeast in warm water.**In a large bowl...</td>\n",
              "      <td>60.0</td>\n",
              "      <td>45.0</td>\n",
              "      <td>330.0</td>\n",
              "    </tr>\n",
              "    <tr>\n",
              "      <th>3</th>\n",
              "      <td>Applesauce Bread I Recipe</td>\n",
              "      <td>7003</td>\n",
              "      <td>124</td>\n",
              "      <td>https://images.media-allrecipes.com/userphotos...</td>\n",
              "      <td>GAF55</td>\n",
              "      <td>3 cups all-purpose flour**3 eggs**2 cups white...</td>\n",
              "      <td>Preheat oven to 350 degrees F (175 degrees C)....</td>\n",
              "      <td>10.0</td>\n",
              "      <td>80.0</td>\n",
              "      <td>90.0</td>\n",
              "    </tr>\n",
              "    <tr>\n",
              "      <th>4</th>\n",
              "      <td>Raisin Brown Bread Recipe</td>\n",
              "      <td>7004</td>\n",
              "      <td>5</td>\n",
              "      <td>https://images.media-allrecipes.com/userphotos...</td>\n",
              "      <td>Tina</td>\n",
              "      <td>2 cups boiling water**1 cup rolled oats**2 tab...</td>\n",
              "      <td>Combine boiling water, oats, shortening, brown...</td>\n",
              "      <td>30.0</td>\n",
              "      <td>40.0</td>\n",
              "      <td>190.0</td>\n",
              "    </tr>\n",
              "  </tbody>\n",
              "</table>\n",
              "</div>"
            ],
            "text/plain": [
              "                           Recipe Name RecipeID  ... Cook_Time Total_Time\n",
              "0        Golden Crescent Rolls Recipe      7000  ...      15.0      190.0\n",
              "1  Poppy Seed Bread with Glaze Recipe      7001  ...      60.0       80.0\n",
              "2        Czech Christmas Hoska Recipe      7002  ...      45.0      330.0\n",
              "3           Applesauce Bread I Recipe      7003  ...      80.0       90.0\n",
              "4           Raisin Brown Bread Recipe      7004  ...      40.0      190.0\n",
              "\n",
              "[5 rows x 10 columns]"
            ]
          },
          "metadata": {
            "tags": []
          },
          "execution_count": 180
        }
      ]
    },
    {
      "cell_type": "markdown",
      "metadata": {
        "id": "c4pyFMeX7Ogj"
      },
      "source": [
        "## Convert *RecipeID* to Integer\n",
        "To facilitate future table joins, convert *RecipeID* into integers. If a record is not a valid string-type integer, the entire row is removed."
      ]
    },
    {
      "cell_type": "code",
      "metadata": {
        "id": "ojgF4NhkDw3g"
      },
      "source": [
        "def convert_float(row):\n",
        "  row = str(row).strip()\n",
        "  rate = 0\n",
        "  try:\n",
        "    rate = float(row)\n",
        "  except ValueError:\n",
        "    print(row)\n",
        "  return rate"
      ],
      "execution_count": 213,
      "outputs": []
    },
    {
      "cell_type": "code",
      "metadata": {
        "id": "FHG8qRBTyFuj"
      },
      "source": [
        "def convert_int(row):\n",
        "  row = str(row).strip()\n",
        "  id = 0\n",
        "  try:\n",
        "    id = int(row)\n",
        "  except ValueError:\n",
        "    print(row)\n",
        "  return id"
      ],
      "execution_count": 214,
      "outputs": []
    },
    {
      "cell_type": "code",
      "metadata": {
        "id": "nzA_ujC4zb10",
        "outputId": "0e7f3828-e30a-4168-e8fd-fde7c74b7123",
        "colab": {
          "base_uri": "https://localhost:8080/",
          "height": 131
        }
      },
      "source": [
        "# Sanity check, if all rows contain invalid id\n",
        "recipes_df[recipes_df['RecipeID'].apply(convert_int) == 0]"
      ],
      "execution_count": 182,
      "outputs": [
        {
          "output_type": "stream",
          "text": [
            "RecipeID\n"
          ],
          "name": "stdout"
        },
        {
          "output_type": "execute_result",
          "data": {
            "text/html": [
              "<div>\n",
              "<style scoped>\n",
              "    .dataframe tbody tr th:only-of-type {\n",
              "        vertical-align: middle;\n",
              "    }\n",
              "\n",
              "    .dataframe tbody tr th {\n",
              "        vertical-align: top;\n",
              "    }\n",
              "\n",
              "    .dataframe thead th {\n",
              "        text-align: right;\n",
              "    }\n",
              "</style>\n",
              "<table border=\"1\" class=\"dataframe\">\n",
              "  <thead>\n",
              "    <tr style=\"text-align: right;\">\n",
              "      <th></th>\n",
              "      <th>Recipe Name</th>\n",
              "      <th>RecipeID</th>\n",
              "      <th>Review Count</th>\n",
              "      <th>Recipe Photo</th>\n",
              "      <th>Author</th>\n",
              "      <th>Ingredients</th>\n",
              "      <th>Directions</th>\n",
              "      <th>Prepare_Time</th>\n",
              "      <th>Cook_Time</th>\n",
              "      <th>Total_Time</th>\n",
              "    </tr>\n",
              "  </thead>\n",
              "  <tbody>\n",
              "    <tr>\n",
              "      <th>245</th>\n",
              "      <td>Recipe Name</td>\n",
              "      <td>RecipeID</td>\n",
              "      <td>Review Count</td>\n",
              "      <td>Recipe Photo</td>\n",
              "      <td>Author</td>\n",
              "      <td>Ingredients</td>\n",
              "      <td>Directions</td>\n",
              "      <td>NaN</td>\n",
              "      <td>NaN</td>\n",
              "      <td>NaN</td>\n",
              "    </tr>\n",
              "  </tbody>\n",
              "</table>\n",
              "</div>"
            ],
            "text/plain": [
              "     Recipe Name  RecipeID  Review Count  ... Prepare_Time Cook_Time Total_Time\n",
              "245  Recipe Name  RecipeID  Review Count  ...          NaN       NaN        NaN\n",
              "\n",
              "[1 rows x 10 columns]"
            ]
          },
          "metadata": {
            "tags": []
          },
          "execution_count": 182
        }
      ]
    },
    {
      "cell_type": "code",
      "metadata": {
        "id": "02EtLYsjzvm6"
      },
      "source": [
        "# Drop row 245\n",
        "recipes_df.drop(index=245, inplace=True)"
      ],
      "execution_count": 183,
      "outputs": []
    },
    {
      "cell_type": "code",
      "metadata": {
        "id": "kPvFY_T6OJwH",
        "outputId": "f8cc3a23-3f29-4b0e-d533-5fad07978cd7",
        "colab": {
          "base_uri": "https://localhost:8080/",
          "height": 434
        }
      },
      "source": [
        "# Convert RecipeId to integers, Reset id to RecipeId\n",
        "recipes_df['RecipeID'] = recipes_df['RecipeID'].apply(convert_int)\n",
        "recipes_df.set_index(keys=['RecipeID'],inplace=True)\n",
        "recipes_df.head(3)"
      ],
      "execution_count": 184,
      "outputs": [
        {
          "output_type": "execute_result",
          "data": {
            "text/html": [
              "<div>\n",
              "<style scoped>\n",
              "    .dataframe tbody tr th:only-of-type {\n",
              "        vertical-align: middle;\n",
              "    }\n",
              "\n",
              "    .dataframe tbody tr th {\n",
              "        vertical-align: top;\n",
              "    }\n",
              "\n",
              "    .dataframe thead th {\n",
              "        text-align: right;\n",
              "    }\n",
              "</style>\n",
              "<table border=\"1\" class=\"dataframe\">\n",
              "  <thead>\n",
              "    <tr style=\"text-align: right;\">\n",
              "      <th></th>\n",
              "      <th>Recipe Name</th>\n",
              "      <th>Review Count</th>\n",
              "      <th>Recipe Photo</th>\n",
              "      <th>Author</th>\n",
              "      <th>Ingredients</th>\n",
              "      <th>Directions</th>\n",
              "      <th>Prepare_Time</th>\n",
              "      <th>Cook_Time</th>\n",
              "      <th>Total_Time</th>\n",
              "    </tr>\n",
              "    <tr>\n",
              "      <th>RecipeID</th>\n",
              "      <th></th>\n",
              "      <th></th>\n",
              "      <th></th>\n",
              "      <th></th>\n",
              "      <th></th>\n",
              "      <th></th>\n",
              "      <th></th>\n",
              "      <th></th>\n",
              "      <th></th>\n",
              "    </tr>\n",
              "  </thead>\n",
              "  <tbody>\n",
              "    <tr>\n",
              "      <th>7000</th>\n",
              "      <td>Golden Crescent Rolls Recipe</td>\n",
              "      <td>304</td>\n",
              "      <td>https://images.media-allrecipes.com/userphotos...</td>\n",
              "      <td>Mike A.</td>\n",
              "      <td>2 (.25 ounce) packages active dry yeast**3/4 c...</td>\n",
              "      <td>Dissolve yeast in warm water.**Stir in sugar, ...</td>\n",
              "      <td>25.0</td>\n",
              "      <td>15.0</td>\n",
              "      <td>190.0</td>\n",
              "    </tr>\n",
              "    <tr>\n",
              "      <th>7001</th>\n",
              "      <td>Poppy Seed Bread with Glaze Recipe</td>\n",
              "      <td>137</td>\n",
              "      <td>https://images.media-allrecipes.com/userphotos...</td>\n",
              "      <td>Christina Jun</td>\n",
              "      <td>3 cups all-purpose flour**1 1/2 teaspoons salt...</td>\n",
              "      <td>Preheat oven to 350 degrees F (175 degrees C)....</td>\n",
              "      <td>15.0</td>\n",
              "      <td>60.0</td>\n",
              "      <td>80.0</td>\n",
              "    </tr>\n",
              "    <tr>\n",
              "      <th>7002</th>\n",
              "      <td>Czech Christmas Hoska Recipe</td>\n",
              "      <td>11</td>\n",
              "      <td>https://images.media-allrecipes.com/userphotos...</td>\n",
              "      <td>Carol Ponec-Nemec</td>\n",
              "      <td>1 (0.6 ounce) cake compressed fresh yeast**1/4...</td>\n",
              "      <td>Dissolve yeast in warm water.**In a large bowl...</td>\n",
              "      <td>60.0</td>\n",
              "      <td>45.0</td>\n",
              "      <td>330.0</td>\n",
              "    </tr>\n",
              "  </tbody>\n",
              "</table>\n",
              "</div>"
            ],
            "text/plain": [
              "                                  Recipe Name  ... Total_Time\n",
              "RecipeID                                       ...           \n",
              "7000            Golden Crescent Rolls Recipe   ...      190.0\n",
              "7001      Poppy Seed Bread with Glaze Recipe   ...       80.0\n",
              "7002            Czech Christmas Hoska Recipe   ...      330.0\n",
              "\n",
              "[3 rows x 9 columns]"
            ]
          },
          "metadata": {
            "tags": []
          },
          "execution_count": 184
        }
      ]
    },
    {
      "cell_type": "markdown",
      "metadata": {
        "id": "xtDr5e5IR1PC"
      },
      "source": [
        "## Recipe Missing Value Imputation and Removal\n",
        "As the main purpose of our website is to guide users how to cook, we thus dropped recipes without ingredients or directions, retained recipes without cooking time estimation."
      ]
    },
    {
      "cell_type": "code",
      "metadata": {
        "id": "sU0jvfoXPCTp",
        "outputId": "32672111-50bb-447c-d7b6-77f7354a43c4",
        "colab": {
          "base_uri": "https://localhost:8080/"
        }
      },
      "source": [
        "recipes_df.isna().sum()"
      ],
      "execution_count": 185,
      "outputs": [
        {
          "output_type": "execute_result",
          "data": {
            "text/plain": [
              "Recipe Name        0\n",
              "Review Count       0\n",
              "Recipe Photo       0\n",
              "Author             1\n",
              "Ingredients      838\n",
              "Directions       844\n",
              "Prepare_Time    6518\n",
              "Cook_Time       8486\n",
              "Total_Time      6182\n",
              "dtype: int64"
            ]
          },
          "metadata": {
            "tags": []
          },
          "execution_count": 185
        }
      ]
    },
    {
      "cell_type": "code",
      "metadata": {
        "id": "A09mKXYdR9AT",
        "outputId": "6406046d-7674-40af-8ec9-1a0e0178291c",
        "colab": {
          "base_uri": "https://localhost:8080/"
        }
      },
      "source": [
        "# Remove recipes without ingredients or directions\n",
        "recipes_df.dropna(axis=0, how='any', subset=['Ingredients', 'Directions'], inplace=True)\n",
        "recipes_df.isna().sum()"
      ],
      "execution_count": 186,
      "outputs": [
        {
          "output_type": "execute_result",
          "data": {
            "text/plain": [
              "Recipe Name        0\n",
              "Review Count       0\n",
              "Recipe Photo       0\n",
              "Author             0\n",
              "Ingredients        0\n",
              "Directions         0\n",
              "Prepare_Time    5675\n",
              "Cook_Time       7643\n",
              "Total_Time      5339\n",
              "dtype: int64"
            ]
          },
          "metadata": {
            "tags": []
          },
          "execution_count": 186
        }
      ]
    },
    {
      "cell_type": "code",
      "metadata": {
        "id": "ksXkPcnP_NpX",
        "outputId": "ae62cab8-8b7a-4af4-afb9-5d80e1079539",
        "colab": {
          "base_uri": "https://localhost:8080/",
          "height": 1000
        }
      },
      "source": [
        "recipes_df.drop(['Review Count'], axis=1, inplace=True)\n",
        "recipes_df.rename({'Recipe Name':'RecipeName', 'Recipe Photo':'RecipePhoto'}, axis=1, inplace=True)\n",
        "recipes_df"
      ],
      "execution_count": 187,
      "outputs": [
        {
          "output_type": "execute_result",
          "data": {
            "text/html": [
              "<div>\n",
              "<style scoped>\n",
              "    .dataframe tbody tr th:only-of-type {\n",
              "        vertical-align: middle;\n",
              "    }\n",
              "\n",
              "    .dataframe tbody tr th {\n",
              "        vertical-align: top;\n",
              "    }\n",
              "\n",
              "    .dataframe thead th {\n",
              "        text-align: right;\n",
              "    }\n",
              "</style>\n",
              "<table border=\"1\" class=\"dataframe\">\n",
              "  <thead>\n",
              "    <tr style=\"text-align: right;\">\n",
              "      <th></th>\n",
              "      <th>RecipeName</th>\n",
              "      <th>RecipePhoto</th>\n",
              "      <th>Author</th>\n",
              "      <th>Ingredients</th>\n",
              "      <th>Directions</th>\n",
              "      <th>Prepare_Time</th>\n",
              "      <th>Cook_Time</th>\n",
              "      <th>Total_Time</th>\n",
              "    </tr>\n",
              "    <tr>\n",
              "      <th>RecipeID</th>\n",
              "      <th></th>\n",
              "      <th></th>\n",
              "      <th></th>\n",
              "      <th></th>\n",
              "      <th></th>\n",
              "      <th></th>\n",
              "      <th></th>\n",
              "      <th></th>\n",
              "    </tr>\n",
              "  </thead>\n",
              "  <tbody>\n",
              "    <tr>\n",
              "      <th>7000</th>\n",
              "      <td>Golden Crescent Rolls Recipe</td>\n",
              "      <td>https://images.media-allrecipes.com/userphotos...</td>\n",
              "      <td>Mike A.</td>\n",
              "      <td>2 (.25 ounce) packages active dry yeast**3/4 c...</td>\n",
              "      <td>Dissolve yeast in warm water.**Stir in sugar, ...</td>\n",
              "      <td>25.0</td>\n",
              "      <td>15.0</td>\n",
              "      <td>190.0</td>\n",
              "    </tr>\n",
              "    <tr>\n",
              "      <th>7001</th>\n",
              "      <td>Poppy Seed Bread with Glaze Recipe</td>\n",
              "      <td>https://images.media-allrecipes.com/userphotos...</td>\n",
              "      <td>Christina Jun</td>\n",
              "      <td>3 cups all-purpose flour**1 1/2 teaspoons salt...</td>\n",
              "      <td>Preheat oven to 350 degrees F (175 degrees C)....</td>\n",
              "      <td>15.0</td>\n",
              "      <td>60.0</td>\n",
              "      <td>80.0</td>\n",
              "    </tr>\n",
              "    <tr>\n",
              "      <th>7002</th>\n",
              "      <td>Czech Christmas Hoska Recipe</td>\n",
              "      <td>https://images.media-allrecipes.com/userphotos...</td>\n",
              "      <td>Carol Ponec-Nemec</td>\n",
              "      <td>1 (0.6 ounce) cake compressed fresh yeast**1/4...</td>\n",
              "      <td>Dissolve yeast in warm water.**In a large bowl...</td>\n",
              "      <td>60.0</td>\n",
              "      <td>45.0</td>\n",
              "      <td>330.0</td>\n",
              "    </tr>\n",
              "    <tr>\n",
              "      <th>7003</th>\n",
              "      <td>Applesauce Bread I Recipe</td>\n",
              "      <td>https://images.media-allrecipes.com/userphotos...</td>\n",
              "      <td>GAF55</td>\n",
              "      <td>3 cups all-purpose flour**3 eggs**2 cups white...</td>\n",
              "      <td>Preheat oven to 350 degrees F (175 degrees C)....</td>\n",
              "      <td>10.0</td>\n",
              "      <td>80.0</td>\n",
              "      <td>90.0</td>\n",
              "    </tr>\n",
              "    <tr>\n",
              "      <th>7004</th>\n",
              "      <td>Raisin Brown Bread Recipe</td>\n",
              "      <td>https://images.media-allrecipes.com/userphotos...</td>\n",
              "      <td>Tina</td>\n",
              "      <td>2 cups boiling water**1 cup rolled oats**2 tab...</td>\n",
              "      <td>Combine boiling water, oats, shortening, brown...</td>\n",
              "      <td>30.0</td>\n",
              "      <td>40.0</td>\n",
              "      <td>190.0</td>\n",
              "    </tr>\n",
              "    <tr>\n",
              "      <th>...</th>\n",
              "      <td>...</td>\n",
              "      <td>...</td>\n",
              "      <td>...</td>\n",
              "      <td>...</td>\n",
              "      <td>...</td>\n",
              "      <td>...</td>\n",
              "      <td>...</td>\n",
              "      <td>...</td>\n",
              "    </tr>\n",
              "    <tr>\n",
              "      <th>27572</th>\n",
              "      <td>Johnsonville® Three Cheese Italian Style Chick...</td>\n",
              "      <td>https://images.media-allrecipes.com/images/795...</td>\n",
              "      <td>The Kitchen at Johnsonville Sausage</td>\n",
              "      <td>1 (12 inch) pre-baked pizza crust**1 1/2 cups ...</td>\n",
              "      <td>Top pizza crust with cheese.  Bake crust accor...</td>\n",
              "      <td>NaN</td>\n",
              "      <td>NaN</td>\n",
              "      <td>30.0</td>\n",
              "    </tr>\n",
              "    <tr>\n",
              "      <th>27576</th>\n",
              "      <td>Johnsonville® Three Cheese Italian Style Chick...</td>\n",
              "      <td>https://images.media-allrecipes.com/images/795...</td>\n",
              "      <td>The Kitchen at Johnsonville Sausage</td>\n",
              "      <td>1 (12 inch) pre-baked pizza crust**1 1/2 cups ...</td>\n",
              "      <td>Top pizza crust with cheese.  Bake crust accor...</td>\n",
              "      <td>NaN</td>\n",
              "      <td>NaN</td>\n",
              "      <td>30.0</td>\n",
              "    </tr>\n",
              "    <tr>\n",
              "      <th>27580</th>\n",
              "      <td>Johnsonville® Three Cheese Italian Style Chick...</td>\n",
              "      <td>https://images.media-allrecipes.com/images/795...</td>\n",
              "      <td>The Kitchen at Johnsonville Sausage</td>\n",
              "      <td>1 (12 inch) pre-baked pizza crust**1 1/2 cups ...</td>\n",
              "      <td>Top pizza crust with cheese.  Bake crust accor...</td>\n",
              "      <td>NaN</td>\n",
              "      <td>NaN</td>\n",
              "      <td>30.0</td>\n",
              "    </tr>\n",
              "    <tr>\n",
              "      <th>27590</th>\n",
              "      <td>Johnsonville® Three Cheese Italian Style Chick...</td>\n",
              "      <td>https://images.media-allrecipes.com/images/795...</td>\n",
              "      <td>The Kitchen at Johnsonville Sausage</td>\n",
              "      <td>1 (12 inch) pre-baked pizza crust**1 1/2 cups ...</td>\n",
              "      <td>Top pizza crust with cheese.  Bake crust accor...</td>\n",
              "      <td>NaN</td>\n",
              "      <td>NaN</td>\n",
              "      <td>30.0</td>\n",
              "    </tr>\n",
              "    <tr>\n",
              "      <th>27594</th>\n",
              "      <td>Johnsonville® Three Cheese Italian Style Chick...</td>\n",
              "      <td>https://images.media-allrecipes.com/images/795...</td>\n",
              "      <td>The Kitchen at Johnsonville Sausage</td>\n",
              "      <td>1 (12 inch) pre-baked pizza crust**1 1/2 cups ...</td>\n",
              "      <td>Top pizza crust with cheese.  Bake crust accor...</td>\n",
              "      <td>NaN</td>\n",
              "      <td>NaN</td>\n",
              "      <td>30.0</td>\n",
              "    </tr>\n",
              "  </tbody>\n",
              "</table>\n",
              "<p>17609 rows × 8 columns</p>\n",
              "</div>"
            ],
            "text/plain": [
              "                                                 RecipeName  ... Total_Time\n",
              "RecipeID                                                     ...           \n",
              "7000                          Golden Crescent Rolls Recipe   ...      190.0\n",
              "7001                    Poppy Seed Bread with Glaze Recipe   ...       80.0\n",
              "7002                          Czech Christmas Hoska Recipe   ...      330.0\n",
              "7003                             Applesauce Bread I Recipe   ...       90.0\n",
              "7004                             Raisin Brown Bread Recipe   ...      190.0\n",
              "...                                                     ...  ...        ...\n",
              "27572     Johnsonville® Three Cheese Italian Style Chick...  ...       30.0\n",
              "27576     Johnsonville® Three Cheese Italian Style Chick...  ...       30.0\n",
              "27580     Johnsonville® Three Cheese Italian Style Chick...  ...       30.0\n",
              "27590     Johnsonville® Three Cheese Italian Style Chick...  ...       30.0\n",
              "27594     Johnsonville® Three Cheese Italian Style Chick...  ...       30.0\n",
              "\n",
              "[17609 rows x 8 columns]"
            ]
          },
          "metadata": {
            "tags": []
          },
          "execution_count": 187
        }
      ]
    },
    {
      "cell_type": "markdown",
      "metadata": {
        "id": "B_7ozGH742Bu"
      },
      "source": [
        "# Extract Ingredients from Recipe\n",
        "\n",
        "Now ingredients are stored within the *Ingredients* column in the format of {quantity}{unit}{item name}, for example, for recipe with ID 7000:\n",
        "```\n",
        "  recipes_df.iloc[0]['Ingredients'].split('**')\n",
        " ```\n",
        "gives\n",
        "```\n",
        " '2 (.25 ounce) packages active dry yeast',\n",
        " '3/4 cup warm water (110 degrees F/45 degrees C)',\n",
        " '1/2 cup white sugar',\n",
        " '1 teaspoon salt',\n",
        " '2 eggs',\n",
        " '1/2 cup butter, room temperature',\n",
        " '4 cups all-purpose flour',\n",
        " '1/4 cup butter, softened' \n",
        " ```\n",
        "Our goal is to extract quantity, unit, item name separately and attain an output table in following format:\n",
        "\n",
        "|RecipeID| quantity | Unit | Ingredient|\n",
        "| --- | --- | --- | ---|\n",
        "|7000| 0.25 | ounce| yeast|\n",
        "|7000|\t1.5|\tcup|\twater|\n",
        "|7000\t|1.0\t|cup\t|sugar|\n",
        "|7000\t|1.0\t|teaspoon\t|salt|\n",
        "\n",
        "\n"
      ]
    },
    {
      "cell_type": "code",
      "metadata": {
        "id": "hn9HPTVCSbhY"
      },
      "source": [
        "Ingred = recipes_df['Ingredients']"
      ],
      "execution_count": 188,
      "outputs": []
    },
    {
      "cell_type": "code",
      "metadata": {
        "id": "rPRBvV1CVWGO"
      },
      "source": [
        "# Unit set, only in Singular form\n",
        "unit_set = ['cup','ounce','pound','teaspoon','quart','tablespoon','slice','package']\n",
        "all_unit = \"|\".join(unit_set)"
      ],
      "execution_count": 189,
      "outputs": []
    },
    {
      "cell_type": "code",
      "metadata": {
        "id": "fSPWpVTWVrKB"
      },
      "source": [
        "def extract_ingred(row):\n",
        "  rows = row.split(\"**\")\n",
        "  res = []\n",
        "  for row in rows:\n",
        "    unit, quant, ing = None, 0, row\n",
        "\n",
        "    # If contains () use units in ()\n",
        "    if '(' in set(row) and row.find(')')!=len(row)-1:\n",
        "      unit = row[row.find('(')+1:row.find(')')]\n",
        "      quant = re.findall(\"\\d+\\.\\d+|\\d+|\\d{2,}?\",unit)\n",
        "      if quant: \n",
        "        quant = float(quant[0])\n",
        "      else:\n",
        "        quant = 0\n",
        "      measure = unit.split()[-1]\n",
        "      unit = measure\n",
        "      ing = (\" \".join(row[row.find(')')+1:].split()[1:]))\n",
        "      row = row[row.find(')')+1:]\n",
        "    else:\n",
        "\n",
        "      # Match quantity\n",
        "      num = re.findall(\"\\d+\\/[1-9][0-9]*|\\d+|\\d{2,}|\\d{3,}?\",row)\n",
        "      frac = 0\n",
        "      # Handle fractions\n",
        "      if num:\n",
        "        if (len(num)>1 or \"/\" in num[0]):\n",
        "        # Fraction\n",
        "          for n in num:\n",
        "            if \"/\" not in n:\n",
        "              quant += int(n)\n",
        "            else: \n",
        "              frac = n\n",
        "              ind_slash = frac.find('/')\n",
        "              frac = int(frac[ind_slash-1])/int(frac[ind_slash+1])\n",
        "              quant+= frac\n",
        "              break\n",
        "        else:\n",
        "          quant = float(num[0])\n",
        "      \n",
        "      # Store quantity as decimal\n",
        "      quant = quant+frac\n",
        "\n",
        "      # Match units\n",
        "      unit = re.search(rf\"{all_unit}\",row)\n",
        "      if unit:\n",
        "        unit = unit.group()\n",
        "\n",
        "      # Remove suffixes with , or ()\n",
        "      if ',' in set(ing):\n",
        "        ing = row[: row.find(',')]\n",
        "      if '(' in set(ing):\n",
        "        ing = row[: row.find('(')]\n",
        "      ing = \" \".join(re.findall(rf\"(?!{all_unit})\\b([a-z]+)?\", ing)).strip()\n",
        "\n",
        "      \n",
        "    # Tokenize ingredients, store only nouns\n",
        "    ing_set = nltk.word_tokenize(ing)\n",
        "    tagged = nltk.pos_tag(ing_set, tagset = 'universal')\n",
        "    ing = \" \".join([word[0] for word in tagged if word[1]=='NOUN'])\n",
        "\n",
        "    res.append((round(quant,2),unit,ing))\n",
        "  return res"
      ],
      "execution_count": 229,
      "outputs": []
    },
    {
      "cell_type": "code",
      "metadata": {
        "id": "Pj3peIHnS-0D"
      },
      "source": [
        "New_ingred = Ingred.apply(extract_ingred)"
      ],
      "execution_count": 230,
      "outputs": []
    },
    {
      "cell_type": "code",
      "metadata": {
        "id": "q0UAAE5iu1Jk"
      },
      "source": [
        "ingredient_df = pd.DataFrame(New_ingred.explode())\n",
        "ingredient_df = ingredient_df.reset_index()"
      ],
      "execution_count": 231,
      "outputs": []
    },
    {
      "cell_type": "code",
      "metadata": {
        "id": "5utD37Ac3Qsg"
      },
      "source": [
        "# Setup ingredient dataframe\n",
        "ingredient_df[['quantity','unit', 'ingredient']] = pd.DataFrame(ingredient_df['Ingredients'].tolist())\n",
        "ingredient_df.drop(['Ingredients'], axis=1, inplace=True)"
      ],
      "execution_count": 232,
      "outputs": []
    },
    {
      "cell_type": "code",
      "metadata": {
        "id": "6-n_PM3N61Mo",
        "outputId": "b8e90373-56fc-4dbd-db00-8db59a195d38",
        "colab": {
          "base_uri": "https://localhost:8080/",
          "height": 415
        }
      },
      "source": [
        "ingredient_df.dropna(axis=0, subset=['ingredient'], inplace=True)\n",
        "ingredient_df"
      ],
      "execution_count": 233,
      "outputs": [
        {
          "output_type": "execute_result",
          "data": {
            "text/html": [
              "<div>\n",
              "<style scoped>\n",
              "    .dataframe tbody tr th:only-of-type {\n",
              "        vertical-align: middle;\n",
              "    }\n",
              "\n",
              "    .dataframe tbody tr th {\n",
              "        vertical-align: top;\n",
              "    }\n",
              "\n",
              "    .dataframe thead th {\n",
              "        text-align: right;\n",
              "    }\n",
              "</style>\n",
              "<table border=\"1\" class=\"dataframe\">\n",
              "  <thead>\n",
              "    <tr style=\"text-align: right;\">\n",
              "      <th></th>\n",
              "      <th>RecipeID</th>\n",
              "      <th>quantity</th>\n",
              "      <th>unit</th>\n",
              "      <th>ingredient</th>\n",
              "    </tr>\n",
              "  </thead>\n",
              "  <tbody>\n",
              "    <tr>\n",
              "      <th>0</th>\n",
              "      <td>7000</td>\n",
              "      <td>25.0</td>\n",
              "      <td>ounce</td>\n",
              "      <td>yeast</td>\n",
              "    </tr>\n",
              "    <tr>\n",
              "      <th>1</th>\n",
              "      <td>7000</td>\n",
              "      <td>1.5</td>\n",
              "      <td>cup</td>\n",
              "      <td>water</td>\n",
              "    </tr>\n",
              "    <tr>\n",
              "      <th>2</th>\n",
              "      <td>7000</td>\n",
              "      <td>1.0</td>\n",
              "      <td>cup</td>\n",
              "      <td>sugar</td>\n",
              "    </tr>\n",
              "    <tr>\n",
              "      <th>3</th>\n",
              "      <td>7000</td>\n",
              "      <td>1.0</td>\n",
              "      <td>teaspoon</td>\n",
              "      <td>salt</td>\n",
              "    </tr>\n",
              "    <tr>\n",
              "      <th>4</th>\n",
              "      <td>7000</td>\n",
              "      <td>2.0</td>\n",
              "      <td>None</td>\n",
              "      <td>eggs</td>\n",
              "    </tr>\n",
              "    <tr>\n",
              "      <th>...</th>\n",
              "      <td>...</td>\n",
              "      <td>...</td>\n",
              "      <td>...</td>\n",
              "      <td>...</td>\n",
              "    </tr>\n",
              "    <tr>\n",
              "      <th>152858</th>\n",
              "      <td>27594</td>\n",
              "      <td>12.0</td>\n",
              "      <td>inch</td>\n",
              "      <td>pizza crust</td>\n",
              "    </tr>\n",
              "    <tr>\n",
              "      <th>152859</th>\n",
              "      <td>27594</td>\n",
              "      <td>2.0</td>\n",
              "      <td>cup</td>\n",
              "      <td>mozzarella cheese</td>\n",
              "    </tr>\n",
              "    <tr>\n",
              "      <th>152860</th>\n",
              "      <td>27594</td>\n",
              "      <td>14.0</td>\n",
              "      <td>ounce</td>\n",
              "      <td>pizza sauce</td>\n",
              "    </tr>\n",
              "    <tr>\n",
              "      <th>152861</th>\n",
              "      <td>27594</td>\n",
              "      <td>12.0</td>\n",
              "      <td>ounce</td>\n",
              "      <td>Johnsonville® Cheese Style Chicken Sausage</td>\n",
              "    </tr>\n",
              "    <tr>\n",
              "      <th>152862</th>\n",
              "      <td>27594</td>\n",
              "      <td>3.5</td>\n",
              "      <td>ounce</td>\n",
              "      <td>pepperoni</td>\n",
              "    </tr>\n",
              "  </tbody>\n",
              "</table>\n",
              "<p>152863 rows × 4 columns</p>\n",
              "</div>"
            ],
            "text/plain": [
              "        RecipeID  ...                                  ingredient\n",
              "0           7000  ...                                       yeast\n",
              "1           7000  ...                                       water\n",
              "2           7000  ...                                       sugar\n",
              "3           7000  ...                                        salt\n",
              "4           7000  ...                                        eggs\n",
              "...          ...  ...                                         ...\n",
              "152858     27594  ...                                 pizza crust\n",
              "152859     27594  ...                           mozzarella cheese\n",
              "152860     27594  ...                                 pizza sauce\n",
              "152861     27594  ...  Johnsonville® Cheese Style Chicken Sausage\n",
              "152862     27594  ...                                   pepperoni\n",
              "\n",
              "[152863 rows x 4 columns]"
            ]
          },
          "metadata": {
            "tags": []
          },
          "execution_count": 233
        }
      ]
    },
    {
      "cell_type": "code",
      "metadata": {
        "id": "C3S2groI5zHv"
      },
      "source": [
        "# Extract all unique ingredients, create an independent table with ingredient ID\n",
        "unique_ingred = ingredient_df['ingredient'].unique()"
      ],
      "execution_count": 234,
      "outputs": []
    },
    {
      "cell_type": "code",
      "metadata": {
        "id": "LDQqD-oy57Mk"
      },
      "source": [
        "unique_ingred_df = pd.DataFrame(unique_ingred, columns=['ingredient'])\n",
        "unique_ingred_df.reset_index(inplace=True)\n",
        "unique_ingred_df.rename({'index':'ingred_index'}, inplace=True, axis=1)\n",
        "unique_ingred_df"
      ],
      "execution_count": 235,
      "outputs": []
    },
    {
      "cell_type": "code",
      "metadata": {
        "id": "ZXN1pPsU5AaN",
        "outputId": "7516bc42-adf5-4315-971c-f80d503a4706",
        "colab": {
          "base_uri": "https://localhost:8080/",
          "height": 415
        }
      },
      "source": [
        "# Add ingredientID to ingredient table\n",
        "ingredient_df_indexed = ingredient_df.merge(unique_ingred_df, left_on='ingredient', right_on='ingredient', how='inner', copy=False)\n",
        "ingredient_df_indexed"
      ],
      "execution_count": 237,
      "outputs": [
        {
          "output_type": "execute_result",
          "data": {
            "text/html": [
              "<div>\n",
              "<style scoped>\n",
              "    .dataframe tbody tr th:only-of-type {\n",
              "        vertical-align: middle;\n",
              "    }\n",
              "\n",
              "    .dataframe tbody tr th {\n",
              "        vertical-align: top;\n",
              "    }\n",
              "\n",
              "    .dataframe thead th {\n",
              "        text-align: right;\n",
              "    }\n",
              "</style>\n",
              "<table border=\"1\" class=\"dataframe\">\n",
              "  <thead>\n",
              "    <tr style=\"text-align: right;\">\n",
              "      <th></th>\n",
              "      <th>RecipeID</th>\n",
              "      <th>quantity</th>\n",
              "      <th>unit</th>\n",
              "      <th>ingredient</th>\n",
              "      <th>ingred_index</th>\n",
              "    </tr>\n",
              "  </thead>\n",
              "  <tbody>\n",
              "    <tr>\n",
              "      <th>0</th>\n",
              "      <td>7000</td>\n",
              "      <td>25.0</td>\n",
              "      <td>ounce</td>\n",
              "      <td>yeast</td>\n",
              "      <td>0</td>\n",
              "    </tr>\n",
              "    <tr>\n",
              "      <th>1</th>\n",
              "      <td>7002</td>\n",
              "      <td>0.6</td>\n",
              "      <td>ounce</td>\n",
              "      <td>yeast</td>\n",
              "      <td>0</td>\n",
              "    </tr>\n",
              "    <tr>\n",
              "      <th>2</th>\n",
              "      <td>7004</td>\n",
              "      <td>2.0</td>\n",
              "      <td>tablespoon</td>\n",
              "      <td>yeast</td>\n",
              "      <td>0</td>\n",
              "    </tr>\n",
              "    <tr>\n",
              "      <th>3</th>\n",
              "      <td>7008</td>\n",
              "      <td>2.0</td>\n",
              "      <td>tablespoon</td>\n",
              "      <td>yeast</td>\n",
              "      <td>0</td>\n",
              "    </tr>\n",
              "    <tr>\n",
              "      <th>4</th>\n",
              "      <td>7009</td>\n",
              "      <td>25.0</td>\n",
              "      <td>ounce</td>\n",
              "      <td>yeast</td>\n",
              "      <td>0</td>\n",
              "    </tr>\n",
              "    <tr>\n",
              "      <th>...</th>\n",
              "      <td>...</td>\n",
              "      <td>...</td>\n",
              "      <td>...</td>\n",
              "      <td>...</td>\n",
              "      <td>...</td>\n",
              "    </tr>\n",
              "    <tr>\n",
              "      <th>152858</th>\n",
              "      <td>27262</td>\n",
              "      <td>12.0</td>\n",
              "      <td>inch</td>\n",
              "      <td>pizza crust bread shell</td>\n",
              "      <td>3795</td>\n",
              "    </tr>\n",
              "    <tr>\n",
              "      <th>152859</th>\n",
              "      <td>27263</td>\n",
              "      <td>7.0</td>\n",
              "      <td>ounce</td>\n",
              "      <td>BUITONI® Pesto Sun-Dried Tomatoes</td>\n",
              "      <td>3796</td>\n",
              "    </tr>\n",
              "    <tr>\n",
              "      <th>152860</th>\n",
              "      <td>27263</td>\n",
              "      <td>0.5</td>\n",
              "      <td>cup</td>\n",
              "      <td>onion alfalfa sprouts</td>\n",
              "      <td>3797</td>\n",
              "    </tr>\n",
              "    <tr>\n",
              "      <th>152861</th>\n",
              "      <td>27277</td>\n",
              "      <td>3.0</td>\n",
              "      <td>tablespoon</td>\n",
              "      <td>sugar replacement</td>\n",
              "      <td>3798</td>\n",
              "    </tr>\n",
              "    <tr>\n",
              "      <th>152862</th>\n",
              "      <td>27381</td>\n",
              "      <td>1.5</td>\n",
              "      <td>cup</td>\n",
              "      <td>treacle molasses</td>\n",
              "      <td>3799</td>\n",
              "    </tr>\n",
              "  </tbody>\n",
              "</table>\n",
              "<p>152863 rows × 5 columns</p>\n",
              "</div>"
            ],
            "text/plain": [
              "        RecipeID  quantity  ...                         ingredient ingred_index\n",
              "0           7000      25.0  ...                              yeast            0\n",
              "1           7002       0.6  ...                              yeast            0\n",
              "2           7004       2.0  ...                              yeast            0\n",
              "3           7008       2.0  ...                              yeast            0\n",
              "4           7009      25.0  ...                              yeast            0\n",
              "...          ...       ...  ...                                ...          ...\n",
              "152858     27262      12.0  ...            pizza crust bread shell         3795\n",
              "152859     27263       7.0  ...  BUITONI® Pesto Sun-Dried Tomatoes         3796\n",
              "152860     27263       0.5  ...              onion alfalfa sprouts         3797\n",
              "152861     27277       3.0  ...                  sugar replacement         3798\n",
              "152862     27381       1.5  ...                   treacle molasses         3799\n",
              "\n",
              "[152863 rows x 5 columns]"
            ]
          },
          "metadata": {
            "tags": []
          },
          "execution_count": 237
        }
      ]
    },
    {
      "cell_type": "markdown",
      "metadata": {
        "id": "R_qah4tj5Q0f"
      },
      "source": [
        "# Clean reviews"
      ]
    },
    {
      "cell_type": "code",
      "metadata": {
        "id": "tO95oEpN5SK2",
        "outputId": "3abf018c-8461-4d3b-82c6-c85370aa342e",
        "colab": {
          "base_uri": "https://localhost:8080/"
        }
      },
      "source": [
        "reviews_df.isna().sum()"
      ],
      "execution_count": 248,
      "outputs": [
        {
          "output_type": "execute_result",
          "data": {
            "text/plain": [
              "RecipeID       0\n",
              "profileID    178\n",
              "Rate         178\n",
              "Comment      365\n",
              "dtype: int64"
            ]
          },
          "metadata": {
            "tags": []
          },
          "execution_count": 248
        }
      ]
    },
    {
      "cell_type": "code",
      "metadata": {
        "id": "n-Tw9_xr5UQF"
      },
      "source": [
        "# Drop rows without ratings, drop comment column\n",
        "reviews_df.dropna(subset=['Rate'], axis=0, inplace=True)\n",
        "reviews_df.drop(['Comment'], axis=1, inplace=True)"
      ],
      "execution_count": 249,
      "outputs": []
    },
    {
      "cell_type": "code",
      "metadata": {
        "id": "kv7Aq6_t5nME",
        "outputId": "8c5fd06c-eacd-4285-a521-695010fd7e2f",
        "colab": {
          "base_uri": "https://localhost:8080/"
        }
      },
      "source": [
        "reviews_df.info()"
      ],
      "execution_count": 250,
      "outputs": [
        {
          "output_type": "stream",
          "text": [
            "<class 'pandas.core.frame.DataFrame'>\n",
            "Int64Index: 1578722 entries, 0 to 1578899\n",
            "Data columns (total 3 columns):\n",
            " #   Column     Non-Null Count    Dtype \n",
            "---  ------     --------------    ----- \n",
            " 0   RecipeID   1578722 non-null  object\n",
            " 1   profileID  1578722 non-null  object\n",
            " 2   Rate       1578722 non-null  object\n",
            "dtypes: object(3)\n",
            "memory usage: 48.2+ MB\n"
          ],
          "name": "stdout"
        }
      ]
    },
    {
      "cell_type": "code",
      "metadata": {
        "id": "u4btLmEGDB6B",
        "outputId": "179340e8-6fff-4a2b-c7d0-7ce4c8bf6e3b",
        "colab": {
          "base_uri": "https://localhost:8080/"
        }
      },
      "source": [
        "reviews_df['RecipeID']= reviews_df['RecipeID'].apply(convert_int)\n",
        "reviews_df['Rate'] = reviews_df['Rate'].apply(convert_float)"
      ],
      "execution_count": 251,
      "outputs": [
        {
          "output_type": "stream",
          "text": [
            "RecipeID\n",
            "Rate\n"
          ],
          "name": "stdout"
        }
      ]
    },
    {
      "cell_type": "code",
      "metadata": {
        "id": "EP3ZF8vNbumb",
        "outputId": "7f457bb1-2ce7-4d92-c1c9-f1c8920b8bfc",
        "colab": {
          "base_uri": "https://localhost:8080/"
        }
      },
      "source": [
        "# Check if all recipesID in review exists in recipes\n",
        "review_id = set(reviews_df.RecipeID.unique())\n",
        "recipe_id = set(recipes_df.index.unique())\n",
        "diff = list(review_id - recipe_id)\n",
        "\n",
        "# Drop mismatch from review table\n",
        "reviews_df.drop(index=(reviews_df[reviews_df['RecipeID'].isin(diff)]).index, inplace=True)\n",
        "len(reviews_df)"
      ],
      "execution_count": 252,
      "outputs": [
        {
          "output_type": "execute_result",
          "data": {
            "text/plain": [
              "1027292"
            ]
          },
          "metadata": {
            "tags": []
          },
          "execution_count": 252
        }
      ]
    },
    {
      "cell_type": "code",
      "metadata": {
        "id": "FLKUqbcE-B7W",
        "outputId": "17171245-3b90-465e-b4a6-3f56c383642f",
        "colab": {
          "base_uri": "https://localhost:8080/",
          "height": 415
        }
      },
      "source": [
        "reviews_df"
      ],
      "execution_count": 244,
      "outputs": [
        {
          "output_type": "execute_result",
          "data": {
            "text/html": [
              "<div>\n",
              "<style scoped>\n",
              "    .dataframe tbody tr th:only-of-type {\n",
              "        vertical-align: middle;\n",
              "    }\n",
              "\n",
              "    .dataframe tbody tr th {\n",
              "        vertical-align: top;\n",
              "    }\n",
              "\n",
              "    .dataframe thead th {\n",
              "        text-align: right;\n",
              "    }\n",
              "</style>\n",
              "<table border=\"1\" class=\"dataframe\">\n",
              "  <thead>\n",
              "    <tr style=\"text-align: right;\">\n",
              "      <th></th>\n",
              "      <th>RecipeID</th>\n",
              "      <th>profileID</th>\n",
              "      <th>Rate</th>\n",
              "    </tr>\n",
              "  </thead>\n",
              "  <tbody>\n",
              "    <tr>\n",
              "      <th>0</th>\n",
              "      <td>7000</td>\n",
              "      <td>675719</td>\n",
              "      <td>5.0</td>\n",
              "    </tr>\n",
              "    <tr>\n",
              "      <th>1</th>\n",
              "      <td>7000</td>\n",
              "      <td>1478626</td>\n",
              "      <td>5.0</td>\n",
              "    </tr>\n",
              "    <tr>\n",
              "      <th>2</th>\n",
              "      <td>7000</td>\n",
              "      <td>608663</td>\n",
              "      <td>5.0</td>\n",
              "    </tr>\n",
              "    <tr>\n",
              "      <th>3</th>\n",
              "      <td>7000</td>\n",
              "      <td>2785736</td>\n",
              "      <td>5.0</td>\n",
              "    </tr>\n",
              "    <tr>\n",
              "      <th>4</th>\n",
              "      <td>7000</td>\n",
              "      <td>594474</td>\n",
              "      <td>5.0</td>\n",
              "    </tr>\n",
              "    <tr>\n",
              "      <th>...</th>\n",
              "      <td>...</td>\n",
              "      <td>...</td>\n",
              "      <td>...</td>\n",
              "    </tr>\n",
              "    <tr>\n",
              "      <th>1578895</th>\n",
              "      <td>27511</td>\n",
              "      <td>3323773</td>\n",
              "      <td>5.0</td>\n",
              "    </tr>\n",
              "    <tr>\n",
              "      <th>1578896</th>\n",
              "      <td>27511</td>\n",
              "      <td>1490790</td>\n",
              "      <td>5.0</td>\n",
              "    </tr>\n",
              "    <tr>\n",
              "      <th>1578897</th>\n",
              "      <td>27511</td>\n",
              "      <td>2280040</td>\n",
              "      <td>5.0</td>\n",
              "    </tr>\n",
              "    <tr>\n",
              "      <th>1578898</th>\n",
              "      <td>27511</td>\n",
              "      <td>3298475</td>\n",
              "      <td>4.0</td>\n",
              "    </tr>\n",
              "    <tr>\n",
              "      <th>1578899</th>\n",
              "      <td>27511</td>\n",
              "      <td>2844770</td>\n",
              "      <td>5.0</td>\n",
              "    </tr>\n",
              "  </tbody>\n",
              "</table>\n",
              "<p>1576300 rows × 3 columns</p>\n",
              "</div>"
            ],
            "text/plain": [
              "         RecipeID profileID  Rate\n",
              "0            7000    675719   5.0\n",
              "1            7000   1478626   5.0\n",
              "2            7000    608663   5.0\n",
              "3            7000   2785736   5.0\n",
              "4            7000    594474   5.0\n",
              "...           ...       ...   ...\n",
              "1578895     27511   3323773   5.0\n",
              "1578896     27511   1490790   5.0\n",
              "1578897     27511   2280040   5.0\n",
              "1578898     27511   3298475   4.0\n",
              "1578899     27511   2844770   5.0\n",
              "\n",
              "[1576300 rows x 3 columns]"
            ]
          },
          "metadata": {
            "tags": []
          },
          "execution_count": 244
        }
      ]
    },
    {
      "cell_type": "code",
      "metadata": {
        "id": "Kljbcqv-D8r7"
      },
      "source": [
        "reviews_df.to_csv('reviews_cleaned.csv')\n",
        "unique_ingred_df.to_csv('ingredient.csv')\n",
        "recipes_df.to_csv('recipes_cleaned.csv')\n",
        "ingredient_df_indexed.to_csv('ingredient_recipe.csv')"
      ],
      "execution_count": 245,
      "outputs": []
    },
    {
      "cell_type": "code",
      "metadata": {
        "id": "MrjY8tbJKuGN",
        "outputId": "9b41a588-cb8d-40fe-ac22-1223b414a01e",
        "colab": {
          "base_uri": "https://localhost:8080/",
          "height": 17
        }
      },
      "source": [
        "from google.colab import files\n",
        "files.download('ingredient.csv')\n",
        "files.download('recipes_cleaned.csv')\n",
        "files.download('reviews_cleaned.csv')\n",
        "files.download('ingredient_recipe.csv')"
      ],
      "execution_count": 246,
      "outputs": [
        {
          "output_type": "display_data",
          "data": {
            "application/javascript": [
              "\n",
              "    async function download(id, filename, size) {\n",
              "      if (!google.colab.kernel.accessAllowed) {\n",
              "        return;\n",
              "      }\n",
              "      const div = document.createElement('div');\n",
              "      const label = document.createElement('label');\n",
              "      label.textContent = `Downloading \"${filename}\": `;\n",
              "      div.appendChild(label);\n",
              "      const progress = document.createElement('progress');\n",
              "      progress.max = size;\n",
              "      div.appendChild(progress);\n",
              "      document.body.appendChild(div);\n",
              "\n",
              "      const buffers = [];\n",
              "      let downloaded = 0;\n",
              "\n",
              "      const channel = await google.colab.kernel.comms.open(id);\n",
              "      // Send a message to notify the kernel that we're ready.\n",
              "      channel.send({})\n",
              "\n",
              "      for await (const message of channel.messages) {\n",
              "        // Send a message to notify the kernel that we're ready.\n",
              "        channel.send({})\n",
              "        if (message.buffers) {\n",
              "          for (const buffer of message.buffers) {\n",
              "            buffers.push(buffer);\n",
              "            downloaded += buffer.byteLength;\n",
              "            progress.value = downloaded;\n",
              "          }\n",
              "        }\n",
              "      }\n",
              "      const blob = new Blob(buffers, {type: 'application/binary'});\n",
              "      const a = document.createElement('a');\n",
              "      a.href = window.URL.createObjectURL(blob);\n",
              "      a.download = filename;\n",
              "      div.appendChild(a);\n",
              "      a.click();\n",
              "      div.remove();\n",
              "    }\n",
              "  "
            ],
            "text/plain": [
              "<IPython.core.display.Javascript object>"
            ]
          },
          "metadata": {
            "tags": []
          }
        },
        {
          "output_type": "display_data",
          "data": {
            "application/javascript": [
              "download(\"download_fa1dfa37-3a34-4e89-915d-1d844fc9b23e\", \"ingredient.csv\", 96889)"
            ],
            "text/plain": [
              "<IPython.core.display.Javascript object>"
            ]
          },
          "metadata": {
            "tags": []
          }
        },
        {
          "output_type": "display_data",
          "data": {
            "application/javascript": [
              "\n",
              "    async function download(id, filename, size) {\n",
              "      if (!google.colab.kernel.accessAllowed) {\n",
              "        return;\n",
              "      }\n",
              "      const div = document.createElement('div');\n",
              "      const label = document.createElement('label');\n",
              "      label.textContent = `Downloading \"${filename}\": `;\n",
              "      div.appendChild(label);\n",
              "      const progress = document.createElement('progress');\n",
              "      progress.max = size;\n",
              "      div.appendChild(progress);\n",
              "      document.body.appendChild(div);\n",
              "\n",
              "      const buffers = [];\n",
              "      let downloaded = 0;\n",
              "\n",
              "      const channel = await google.colab.kernel.comms.open(id);\n",
              "      // Send a message to notify the kernel that we're ready.\n",
              "      channel.send({})\n",
              "\n",
              "      for await (const message of channel.messages) {\n",
              "        // Send a message to notify the kernel that we're ready.\n",
              "        channel.send({})\n",
              "        if (message.buffers) {\n",
              "          for (const buffer of message.buffers) {\n",
              "            buffers.push(buffer);\n",
              "            downloaded += buffer.byteLength;\n",
              "            progress.value = downloaded;\n",
              "          }\n",
              "        }\n",
              "      }\n",
              "      const blob = new Blob(buffers, {type: 'application/binary'});\n",
              "      const a = document.createElement('a');\n",
              "      a.href = window.URL.createObjectURL(blob);\n",
              "      a.download = filename;\n",
              "      div.appendChild(a);\n",
              "      a.click();\n",
              "      div.remove();\n",
              "    }\n",
              "  "
            ],
            "text/plain": [
              "<IPython.core.display.Javascript object>"
            ]
          },
          "metadata": {
            "tags": []
          }
        },
        {
          "output_type": "display_data",
          "data": {
            "application/javascript": [
              "download(\"download_5fd97428-431f-47d0-a8da-512ba684878f\", \"recipes_cleaned.csv\", 15578950)"
            ],
            "text/plain": [
              "<IPython.core.display.Javascript object>"
            ]
          },
          "metadata": {
            "tags": []
          }
        },
        {
          "output_type": "display_data",
          "data": {
            "application/javascript": [
              "\n",
              "    async function download(id, filename, size) {\n",
              "      if (!google.colab.kernel.accessAllowed) {\n",
              "        return;\n",
              "      }\n",
              "      const div = document.createElement('div');\n",
              "      const label = document.createElement('label');\n",
              "      label.textContent = `Downloading \"${filename}\": `;\n",
              "      div.appendChild(label);\n",
              "      const progress = document.createElement('progress');\n",
              "      progress.max = size;\n",
              "      div.appendChild(progress);\n",
              "      document.body.appendChild(div);\n",
              "\n",
              "      const buffers = [];\n",
              "      let downloaded = 0;\n",
              "\n",
              "      const channel = await google.colab.kernel.comms.open(id);\n",
              "      // Send a message to notify the kernel that we're ready.\n",
              "      channel.send({})\n",
              "\n",
              "      for await (const message of channel.messages) {\n",
              "        // Send a message to notify the kernel that we're ready.\n",
              "        channel.send({})\n",
              "        if (message.buffers) {\n",
              "          for (const buffer of message.buffers) {\n",
              "            buffers.push(buffer);\n",
              "            downloaded += buffer.byteLength;\n",
              "            progress.value = downloaded;\n",
              "          }\n",
              "        }\n",
              "      }\n",
              "      const blob = new Blob(buffers, {type: 'application/binary'});\n",
              "      const a = document.createElement('a');\n",
              "      a.href = window.URL.createObjectURL(blob);\n",
              "      a.download = filename;\n",
              "      div.appendChild(a);\n",
              "      a.click();\n",
              "      div.remove();\n",
              "    }\n",
              "  "
            ],
            "text/plain": [
              "<IPython.core.display.Javascript object>"
            ]
          },
          "metadata": {
            "tags": []
          }
        },
        {
          "output_type": "display_data",
          "data": {
            "application/javascript": [
              "download(\"download_2b616f34-a1a1-4a3b-9ef2-fc3b787f202e\", \"reviews_cleaned.csv\", 42009550)"
            ],
            "text/plain": [
              "<IPython.core.display.Javascript object>"
            ]
          },
          "metadata": {
            "tags": []
          }
        },
        {
          "output_type": "display_data",
          "data": {
            "application/javascript": [
              "\n",
              "    async function download(id, filename, size) {\n",
              "      if (!google.colab.kernel.accessAllowed) {\n",
              "        return;\n",
              "      }\n",
              "      const div = document.createElement('div');\n",
              "      const label = document.createElement('label');\n",
              "      label.textContent = `Downloading \"${filename}\": `;\n",
              "      div.appendChild(label);\n",
              "      const progress = document.createElement('progress');\n",
              "      progress.max = size;\n",
              "      div.appendChild(progress);\n",
              "      document.body.appendChild(div);\n",
              "\n",
              "      const buffers = [];\n",
              "      let downloaded = 0;\n",
              "\n",
              "      const channel = await google.colab.kernel.comms.open(id);\n",
              "      // Send a message to notify the kernel that we're ready.\n",
              "      channel.send({})\n",
              "\n",
              "      for await (const message of channel.messages) {\n",
              "        // Send a message to notify the kernel that we're ready.\n",
              "        channel.send({})\n",
              "        if (message.buffers) {\n",
              "          for (const buffer of message.buffers) {\n",
              "            buffers.push(buffer);\n",
              "            downloaded += buffer.byteLength;\n",
              "            progress.value = downloaded;\n",
              "          }\n",
              "        }\n",
              "      }\n",
              "      const blob = new Blob(buffers, {type: 'application/binary'});\n",
              "      const a = document.createElement('a');\n",
              "      a.href = window.URL.createObjectURL(blob);\n",
              "      a.download = filename;\n",
              "      div.appendChild(a);\n",
              "      a.click();\n",
              "      div.remove();\n",
              "    }\n",
              "  "
            ],
            "text/plain": [
              "<IPython.core.display.Javascript object>"
            ]
          },
          "metadata": {
            "tags": []
          }
        },
        {
          "output_type": "display_data",
          "data": {
            "application/javascript": [
              "download(\"download_23d3c291-ad6d-41b1-8a81-163f743b9cab\", \"ingredient_recipe.csv\", 5278249)"
            ],
            "text/plain": [
              "<IPython.core.display.Javascript object>"
            ]
          },
          "metadata": {
            "tags": []
          }
        }
      ]
    }
  ]
}